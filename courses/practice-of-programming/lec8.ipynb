{
 "cells": [
  {
   "cell_type": "markdown",
   "metadata": {},
   "source": [
    "# Lecture 8\n",
    "practice of programming 程序设计实习\n",
    "\n",
    "2024.3.22"
   ]
  },
  {
   "cell_type": "markdown",
   "metadata": {},
   "source": [
    "## 输入输出相关的类\n",
    "* ios\n",
    "  + istream\n",
    "  + ostream\n",
    "    + iostream -> fstream"
   ]
  },
  {
   "cell_type": "markdown",
   "metadata": {},
   "source": [
    "### 输入输出流\n",
    "cin与标准输入设备相连，对应标准输入流\n",
    "\n",
    "### 输入重定向"
   ]
  },
  {
   "cell_type": "code",
   "execution_count": null,
   "metadata": {},
   "outputs": [],
   "source": [
    "#include <iostream>\n",
    "using namespace std;\n",
    "int main() {\n",
    "    double f;\n",
    "    int n;\n",
    "    freopen(\"t.txt\", \"r\", stdin); // 重定向\n",
    "    cin >> f >> n;\n",
    "    cout << f << ' ' << n << endl;\n",
    "    return 0;\n",
    "}"
   ]
  },
  {
   "cell_type": "markdown",
   "metadata": {},
   "source": [
    "### 输出流对象\n",
    "cout 与标准输出设备相连\n",
    "\n",
    "cerr 与标准错误输出设备相连\n",
    "\n",
    "clog 与标准错误输出设备相连"
   ]
  },
  {
   "cell_type": "code",
   "execution_count": 1,
   "metadata": {},
   "outputs": [
    {
     "name": "stderr",
     "output_type": "stream",
     "text": [
      "ERROR!\n"
     ]
    }
   ],
   "source": [
    "#include <iostream>\n",
    "using namespace std;\n",
    "int main() {\n",
    "    int x,y;\n",
    "    // cin >> x >> y;\n",
    "    x = 1;\n",
    "    y = 0;\n",
    "    freopen(\"test.txt\", \"w\", stdout);\n",
    "    if (y == 0) {\n",
    "        cerr << \"ERROR!\" << endl;\n",
    "    }\n",
    "    else {\n",
    "        cout << x / y << endl;\n",
    "    }\n",
    "    return 0;\n",
    "}"
   ]
  },
  {
   "cell_type": "code",
   "execution_count": 2,
   "metadata": {},
   "outputs": [],
   "source": [
    "#include <iostream>\n",
    "using namespace std;\n",
    "int main() {\n",
    "    int x,y;\n",
    "    // cin >> x >> y;\n",
    "    x = 1;\n",
    "    y = 1;\n",
    "    freopen(\"test.txt\", \"w\", stdout);\n",
    "    if (y == 0) {\n",
    "        cerr << \"ERROR!\" << endl;\n",
    "    }\n",
    "    else {\n",
    "        cout << x / y << endl;\n",
    "    }\n",
    "    return 0;\n",
    "}"
   ]
  },
  {
   "cell_type": "markdown",
   "metadata": {},
   "source": [
    "(in test.txt:)\n",
    "\n",
    "1"
   ]
  },
  {
   "cell_type": "markdown",
   "metadata": {},
   "source": [
    "### 判断输入流结束"
   ]
  },
  {
   "cell_type": "code",
   "execution_count": null,
   "metadata": {},
   "outputs": [],
   "source": [
    "while (cin >> x)"
   ]
  },
  {
   "cell_type": "markdown",
   "metadata": {},
   "source": [
    "`原理？`\n",
    "\n",
    "istream或基类里面重载了*operator bool*"
   ]
  },
  {
   "cell_type": "code",
   "execution_count": null,
   "metadata": {},
   "outputs": [],
   "source": [
    "istream & operator>>(int &a) {\n",
    "    // ...\n",
    "    return *this;\n",
    "}"
   ]
  },
  {
   "cell_type": "markdown",
   "metadata": {},
   "source": [
    "读到文件尾部，输入流就结束"
   ]
  },
  {
   "cell_type": "code",
   "execution_count": null,
   "metadata": {},
   "outputs": [],
   "source": [
    "// bool 运算符的重载\n",
    "operator bool() { // in class MyCin\n",
    "    return !bStop;\n",
    "}"
   ]
  },
  {
   "cell_type": "markdown",
   "metadata": {},
   "source": [
    "### istream类的成员函数"
   ]
  },
  {
   "cell_type": "code",
   "execution_count": null,
   "metadata": {},
   "outputs": [],
   "source": [
    "istream & getline(char *buf, int bufSize);"
   ]
  },
  {
   "cell_type": "markdown",
   "metadata": {},
   "source": [
    "从输入流中读取bufSize-1个字符到缓冲区，或者到\\n为止（哪个先到算哪个）"
   ]
  },
  {
   "cell_type": "code",
   "execution_count": null,
   "metadata": {},
   "outputs": [],
   "source": [
    "istream & getline(char *buf, int bufSize, char delim);"
   ]
  },
  {
   "cell_type": "markdown",
   "metadata": {},
   "source": [
    "函数的重写，从输入流中读取bufSize-1个字符到缓冲区，或者到delim为止（哪个先到算哪个）"
   ]
  },
  {
   "cell_type": "markdown",
   "metadata": {},
   "source": [
    "`为什么是bufSize-1？`\n",
    "\n",
    "两个函数都会自动在缓冲区读入数据结尾加\\0\n",
    "\n",
    "\\n或delim都不会被读入缓冲区，但是会被输入流中取走"
   ]
  },
  {
   "cell_type": "markdown",
   "metadata": {},
   "source": [
    "`可以用if(!cin.getline(...))判断输入是否结束！！`"
   ]
  },
  {
   "cell_type": "code",
   "execution_count": null,
   "metadata": {},
   "outputs": [],
   "source": [
    "bool eof();"
   ]
  },
  {
   "cell_type": "markdown",
   "metadata": {},
   "source": [
    "判断输入流是否结束"
   ]
  },
  {
   "cell_type": "code",
   "execution_count": null,
   "metadata": {},
   "outputs": [],
   "source": [
    "int peek();"
   ]
  },
  {
   "cell_type": "markdown",
   "metadata": {},
   "source": [
    "“偷看”😶‍🌫️下一个字符，但不从流中去掉"
   ]
  },
  {
   "cell_type": "code",
   "execution_count": null,
   "metadata": {},
   "outputs": [],
   "source": [
    "istream & putback(char c);"
   ]
  },
  {
   "cell_type": "markdown",
   "metadata": {},
   "source": [
    "将字符c放回输入流"
   ]
  },
  {
   "cell_type": "code",
   "execution_count": null,
   "metadata": {},
   "outputs": [],
   "source": [
    "istream & ignore(int nCount = 1, int delim = EOF);"
   ]
  },
  {
   "cell_type": "markdown",
   "metadata": {},
   "source": [
    "从流中删掉最多nCount个字符，直到delim"
   ]
  },
  {
   "cell_type": "markdown",
   "metadata": {},
   "source": [
    "### 流操纵算子\n",
    "整数流的基数：dec, oct, hex, setbase\n",
    "\n",
    "浮点数精度：precision, setprecision\n",
    "\n",
    "设置域宽：setw, width\n",
    "\n",
    "用户自定义的流操纵算子"
   ]
  },
  {
   "cell_type": "code",
   "execution_count": null,
   "metadata": {},
   "outputs": [],
   "source": [
    "#include <iomanip>"
   ]
  },
  {
   "cell_type": "markdown",
   "metadata": {},
   "source": [
    "#### 整数流的基数"
   ]
  },
  {
   "cell_type": "code",
   "execution_count": 4,
   "metadata": {},
   "outputs": [
    {
     "data": {
      "text/markdown": [
       "a\n",
       "\n",
       "10\n",
       "\n",
       "12\n",
       "\n",
       "12\n",
       "\n"
      ]
     },
     "metadata": {},
     "output_type": "display_data"
    }
   ],
   "source": [
    "#include <iostream>\n",
    "#include <iomanip>\n",
    "using namespace std;\n",
    "int main() {\n",
    "    int n = 10;\n",
    "    cout << hex << n << endl;\n",
    "    cout << dec << n << endl;\n",
    "    cout << oct << n << endl;\n",
    "    cout << n << endl; // 上面的都具有长效！！\n",
    "    return 0;\n",
    "}"
   ]
  },
  {
   "cell_type": "markdown",
   "metadata": {},
   "source": [
    "#### 浮点数的精度"
   ]
  },
  {
   "cell_type": "code",
   "execution_count": null,
   "metadata": {},
   "outputs": [],
   "source": [
    "cout << setprecision(5);\n",
    "\n",
    "cout.precision(5);"
   ]
  },
  {
   "cell_type": "code",
   "execution_count": 14,
   "metadata": {},
   "outputs": [
    {
     "data": {
      "text/markdown": [
       "12.3457\n",
       "\n",
       "12.346\n",
       "\n",
       "12.346\n",
       "\n",
       "1.2443e+07\n",
       "\n",
       "12.34568\n",
       "\n",
       "12442541.00000\n",
       "\n"
      ]
     },
     "metadata": {},
     "output_type": "display_data"
    }
   ],
   "source": [
    "#include <iostream>\n",
    "#include <iomanip>\n",
    "using namespace std;\n",
    "int main() {\n",
    "    double x = 12.345677876;\n",
    "    double k = 12442541;\n",
    "    cout << x << endl;\n",
    "    cout << setprecision(5) << x << endl;\n",
    "    cout << x << endl;\n",
    "    cout << k << endl;\n",
    "    cout << fixed << x << endl;\n",
    "    cout << k << endl;\n",
    "}"
   ]
  },
  {
   "cell_type": "markdown",
   "metadata": {},
   "source": [
    "#### 流格式操纵算子 setiosflags"
   ]
  },
  {
   "cell_type": "code",
   "execution_count": null,
   "metadata": {},
   "outputs": [],
   "source": [
    "cout << setiosflags(ios::fixed) << setprecision(6) << x << endl; //set也是长效的！\n",
    "cout << resetiosflags(ios::fixed) << x << endl;"
   ]
  },
  {
   "cell_type": "markdown",
   "metadata": {},
   "source": [
    "可以简写成fixed和scientific"
   ]
  },
  {
   "cell_type": "code",
   "execution_count": 16,
   "metadata": {},
   "outputs": [
    {
     "data": {
      "text/markdown": [
       "1.2346e+06\n",
       "\n",
       "1234567.89000\n",
       "\n",
       "1.23457e+06\n",
       "\n"
      ]
     },
     "metadata": {},
     "output_type": "display_data"
    }
   ],
   "source": [
    "#include <iostream>\n",
    "#include <iomanip>\n",
    "using namespace std;\n",
    "int main() {\n",
    "    double x = 1234567.89;\n",
    "    cout << setprecision(5) << x << endl << fixed << x << endl\n",
    "         << scientific << setprecision(5) << x << endl;\n",
    "         // scientific: 强制使用科学记数法\n",
    "    return 0;\n",
    "}"
   ]
  },
  {
   "cell_type": "markdown",
   "metadata": {},
   "source": [
    "#### 设置域宽度"
   ]
  },
  {
   "cell_type": "code",
   "execution_count": 23,
   "metadata": {},
   "outputs": [
    {
     "data": {
      "text/markdown": [
       "123456\n",
       "\n"
      ]
     },
     "metadata": {},
     "output_type": "display_data"
    }
   ],
   "source": [
    "#include <iostream>\n",
    "#include <iomanip>\n",
    "using namespace std;\n",
    "int main() {\n",
    "    int w = 4;\n",
    "    char x[10] = \"123456\";\n",
    "    cout.width(3); // 短效! 每次输入和输出之前都要重新定义\n",
    "    cout << x << endl;\n",
    "    return 0;\n",
    "}"
   ]
  },
  {
   "cell_type": "markdown",
   "metadata": {},
   "source": [
    "#### 自定义流操纵算子"
   ]
  },
  {
   "cell_type": "code",
   "execution_count": null,
   "metadata": {},
   "outputs": [],
   "source": [
    "ostream &tab(ostream &output) {\n",
    "    return output << '\\t';\n",
    "}\n",
    "cout << \"aa\" << tab << \"bb\" << endl;"
   ]
  },
  {
   "cell_type": "markdown",
   "metadata": {},
   "source": [
    "输出：\n",
    "\n",
    "aa (\\tab) bb"
   ]
  },
  {
   "cell_type": "markdown",
   "metadata": {},
   "source": [
    "`为什么可以？`"
   ]
  },
  {
   "cell_type": "code",
   "execution_count": null,
   "metadata": {},
   "outputs": [],
   "source": [
    "ostream & operator <<(ostream & (*p) (ostream &));"
   ]
  },
  {
   "cell_type": "markdown",
   "metadata": {},
   "source": [
    "> 传入的是一个函数指针"
   ]
  },
  {
   "cell_type": "code",
   "execution_count": 26,
   "metadata": {},
   "outputs": [
    {
     "data": {
      "text/markdown": [
       "aa amazing! bb \n",
       "\n"
      ]
     },
     "metadata": {},
     "output_type": "display_data"
    }
   ],
   "source": [
    "#include <iostream>\n",
    "using namespace std;\n",
    "\n",
    "ostream &tab(ostream &output) {\n",
    "    return output << \"amazing! \";\n",
    "}\n",
    "\n",
    "int main() {\n",
    "    cout << \"aa \" << tab << \"bb \" << endl;\n",
    "}\n"
   ]
  },
  {
   "cell_type": "markdown",
   "metadata": {},
   "source": [
    "所谓流操作算子，其本质都是函数"
   ]
  },
  {
   "cell_type": "markdown",
   "metadata": {},
   "source": [
    "## 文件和流"
   ]
  },
  {
   "cell_type": "markdown",
   "metadata": {},
   "source": [
    "### 数据的层次\n",
    "顺序文件看成有限字符构成的顺序字符流\n",
    "\n",
    "然后像对cin/cout一样的读写"
   ]
  },
  {
   "cell_type": "markdown",
   "metadata": {},
   "source": [
    "### 建立顺序文件"
   ]
  },
  {
   "cell_type": "code",
   "execution_count": 27,
   "metadata": {},
   "outputs": [],
   "source": [
    "#include <fstream>"
   ]
  },
  {
   "cell_type": "code",
   "execution_count": null,
   "metadata": {},
   "outputs": [],
   "source": [
    "ofstream outFile(\"abc.txt\", ios::out|ios::binary); // 打开文件"
   ]
  },
  {
   "cell_type": "markdown",
   "metadata": {},
   "source": [
    "ofstream是fstream中定义的类\n",
    "\n",
    "outFile是我们定义的ofstream类的对象\n",
    "\n",
    "ios::out 是打开并建立文件的选项\n",
    "* ios::out 输出到文件，删除原有的内容\n",
    "* ios::app 输出到文件，保留原有的内容，总是在尾部添加\n",
    "* ios::ate 输出到文件，保留原有内容，在文件任意位置添加\n",
    "\n",
    "ios::binary 以二进制文件打开格式文件"
   ]
  },
  {
   "cell_type": "markdown",
   "metadata": {},
   "source": [
    "也可以先创建ofstream对象，再用open函数打开"
   ]
  },
  {
   "cell_type": "code",
   "execution_count": null,
   "metadata": {},
   "outputs": [],
   "source": [
    "ostream fout;\n",
    "fout.open(\"test.out\", ios::out|ios::binary);"
   ]
  },
  {
   "cell_type": "markdown",
   "metadata": {},
   "source": [
    "### 文件的读写指针"
   ]
  },
  {
   "cell_type": "code",
   "execution_count": null,
   "metadata": {},
   "outputs": [],
   "source": [
    "ofstream fout(\"a1.out\", ios::ate);\n",
    "long location = fout.tellp() // 获取写指针的位置\n",
    "location = 10L;\n",
    "fout.seekp(location); // 将写指针移到第10个字节处\n",
    "fout.seekp(location, ios::beg); // p: put\n",
    "\n",
    "// 写指针： fin.getp(location, ios::<...>)"
   ]
  },
  {
   "cell_type": "markdown",
   "metadata": {},
   "source": [
    "`一定要记得delete文件操作指针！！！！！`"
   ]
  },
  {
   "cell_type": "markdown",
   "metadata": {},
   "source": [
    "### 二进制文件读写\n",
    "直接写二进制数据，记事本上看未必正确"
   ]
  },
  {
   "cell_type": "markdown",
   "metadata": {},
   "source": [
    "### 二进制文件和文本文件的区别\n",
    "Linux，MacOS的文本文件在Windows中打开不会换行"
   ]
  },
  {
   "cell_type": "markdown",
   "metadata": {},
   "source": [
    "## 模版"
   ]
  },
  {
   "cell_type": "markdown",
   "metadata": {},
   "source": [
    "想写一个sort算法，用来sort int，还要sort float，还要sort Myint..."
   ]
  },
  {
   "cell_type": "markdown",
   "metadata": {},
   "source": [
    "### 函数模版"
   ]
  },
  {
   "cell_type": "code",
   "execution_count": null,
   "metadata": {},
   "outputs": [],
   "source": [
    "template<class T>\n",
    "void sort(T a, T b) {\n",
    "    // ...\n",
    "}\n",
    "\n",
    "sort(int a, int b);\n",
    "sort(float a, float b);"
   ]
  },
  {
   "cell_type": "code",
   "execution_count": null,
   "metadata": {},
   "outputs": [],
   "source": [
    "template <class T1, class T2>\n",
    "T1 myfunction(T1 a1, T2 a2) {\n",
    "    // ...;\n",
    "}"
   ]
  },
  {
   "cell_type": "markdown",
   "metadata": {},
   "source": [
    "> 注意！赋值的兼容原则可能引起函数模版中参数的二义性"
   ]
  },
  {
   "cell_type": "markdown",
   "metadata": {},
   "source": [
    "函数模版也是可以重载的！"
   ]
  },
  {
   "cell_type": "markdown",
   "metadata": {},
   "source": [
    "### 函数和模版的匹配顺序\n",
    "* 先找参数完全匹配的函数\n",
    "* 再找参数完全匹配的模版\n",
    "* 在没有二义性的前提下，再找一个参数经过自动转换后能匹配到的函数\n",
    "* 都找不到，就报错"
   ]
  },
  {
   "cell_type": "markdown",
   "metadata": {},
   "source": [
    "### 泛型程序设计 Generic Programming"
   ]
  },
  {
   "cell_type": "markdown",
   "metadata": {},
   "source": [
    "### 类模版\n",
    "多快好省定义一批相似的类\n",
    "\n",
    "比如定义SLList，DLList，AList的时候，希望它具有通用性"
   ]
  }
 ],
 "metadata": {
  "kernelspec": {
   "display_name": "C++ 14",
   "language": "cpp",
   "name": "cpp14"
  },
  "language_info": {
   "file_extension": ".cpp",
   "mimetype": "text/markdown",
   "name": "cpp"
  }
 },
 "nbformat": 4,
 "nbformat_minor": 2
}
