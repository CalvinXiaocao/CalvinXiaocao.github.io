{
 "cells": [
  {
   "cell_type": "markdown",
   "metadata": {},
   "source": [
    "# Lecture 15\n",
    "practice of programming 程序设计实习\n",
    "\n",
    "2024.5.8"
   ]
  },
  {
   "cell_type": "markdown",
   "metadata": {},
   "source": [
    "## 枚举\n",
    "基于已有知识，对答案猜测的一种问题的求解策略\n",
    "\n",
    "（要有技巧！）\n",
    "\n",
    "定义可枚举的局部"
   ]
  }
 ],
 "metadata": {
  "language_info": {
   "name": "python"
  }
 },
 "nbformat": 4,
 "nbformat_minor": 2
}
