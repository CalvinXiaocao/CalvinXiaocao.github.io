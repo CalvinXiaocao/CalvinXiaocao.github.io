{
 "cells": [
  {
   "cell_type": "markdown",
   "metadata": {},
   "source": [
    "# Lecture 2\n",
    "practice of programming 程序设计实习\n",
    "\n",
    "2024.2.23"
   ]
  },
  {
   "cell_type": "code",
   "execution_count": null,
   "metadata": {
    "vscode": {
     "languageId": "cpp"
    }
   },
   "outputs": [],
   "source": [
    "#include <iostream>\n",
    "using namespace std;"
   ]
  },
  {
   "cell_type": "markdown",
   "metadata": {},
   "source": [
    "## 上节课补充知识点"
   ]
  },
  {
   "cell_type": "markdown",
   "metadata": {},
   "source": [
    "> 注：考试的时候一定不要用cin和cout！要自学printf语句"
   ]
  },
  {
   "cell_type": "markdown",
   "metadata": {},
   "source": [
    "### 函数指针\n",
    "指针指向函数名\n",
    "\n",
    "函数名就是函数所占内存区域的起始地址\n",
    "\n",
    "一般形式的定义：类型名（*指针变量名）（参数类型1，参数类型2，……）"
   ]
  },
  {
   "cell_type": "code",
   "execution_count": null,
   "metadata": {
    "vscode": {
     "languageId": "cpp"
    }
   },
   "outputs": [],
   "source": [
    "int (*pf) (int, char)"
   ]
  },
  {
   "cell_type": "markdown",
   "metadata": {},
   "source": [
    "表示pf是一个函数指针，它所指向的函数\n",
    "\n",
    "返回值是int\n",
    "\n",
    "两个参数：一个int，一个char"
   ]
  },
  {
   "cell_type": "markdown",
   "metadata": {},
   "source": [
    "#### 使用方法"
   ]
  },
  {
   "cell_type": "code",
   "execution_count": null,
   "metadata": {
    "vscode": {
     "languageId": "cpp"
    }
   },
   "outputs": [],
   "source": [
    "#include <stdio.h>\n",
    "void printmin(int a, int b){\n",
    "    // ...\n",
    "}\n",
    "int main(){\n",
    "    void (*pf) (int,int);\n",
    "    int x = 4, y = 5;\n",
    "    pf = printmin; // a pointer to function <printmin>\n",
    "    pf(x, y);\n",
    "    return 0;\n",
    "}"
   ]
  },
  {
   "cell_type": "markdown",
   "metadata": {},
   "source": [
    "可以起到“填坑”的作用，进一步诠释留到之后给指针赋值"
   ]
  },
  {
   "cell_type": "markdown",
   "metadata": {},
   "source": [
    "#### 函数指针和qsort库函数\n",
    "C语言快排库函数：\n",
    "\n",
    "我们需要知道起始地址、元素个数、元素大小、前后排序规则"
   ]
  },
  {
   "cell_type": "code",
   "execution_count": null,
   "metadata": {
    "vscode": {
     "languageId": "cpp"
    }
   },
   "outputs": [],
   "source": [
    "void qsort(void *base, int nelem, unsigned int width,\n",
    "  int (* pfCompare) (const void *, const void *));"
   ]
  },
  {
   "cell_type": "markdown",
   "metadata": {},
   "source": [
    "其中**pfCompare**是一个函数指针，指向一个“比较函数”，相当于一个“接口”。"
   ]
  },
  {
   "cell_type": "markdown",
   "metadata": {},
   "source": [
    "比较函数的原型应该是：\n",
    "\n",
    "int /*name here*/ (const void * elem1, const void * elem2)"
   ]
  },
  {
   "cell_type": "markdown",
   "metadata": {},
   "source": [
    "#### qsort库函数的实现"
   ]
  },
  {
   "cell_type": "code",
   "execution_count": null,
   "metadata": {
    "vscode": {
     "languageId": "cpp"
    }
   },
   "outputs": [],
   "source": [
    "int mycompare(const void *elem1, const void *elem2){\n",
    "    // 比较个位的大小\n",
    "    unsigned int *p1 = (unsigned int *) elem1;\n",
    "    unsigned int *p2 = (unsigned int *) elem2;\n",
    "    return (*p1 % 10) - (*p2 % 10);\n",
    "}\n",
    "int main(){\n",
    "    unsigned int numarray[5] = {10, 11, 123,6,3};\n",
    "    qsort(numarray, 5, sizeof(unsigned int), mycompare); // 将an由小到大排序\n",
    "    // ... print out numarray\n",
    "    return 0;\n",
    "}"
   ]
  },
  {
   "cell_type": "markdown",
   "metadata": {},
   "source": [
    "## 面向对象 Object Oriented Programming"
   ]
  },
  {
   "cell_type": "markdown",
   "metadata": {},
   "source": [
    "结构化程序设计：依次梳理\n",
    "\n",
    "面向对象程序设计：个性化、对象，对象有很多属性和操作\n",
    "\n",
    "将某类事物共同特点和属性归纳出来\n",
    "\n",
    "将这类事物能形成的行为也归纳出来"
   ]
  },
  {
   "cell_type": "markdown",
   "metadata": {},
   "source": [
    "### C++关键字：抽象、封装、……\n",
    "\n",
    "将**数据结构**和**函数**“捆绑”在一起——形成“**类**”\n",
    "\n",
    "面向对象的程序=类+类+……+类，设计程序就是设计类的过程"
   ]
  },
  {
   "cell_type": "markdown",
   "metadata": {},
   "source": [
    "### 例子：矩形类\n",
    "\n",
    "> CS 61A的例子用的是bank accounts～\"AsSeenOnTYAccount\"\n",
    "\n",
    "> CS 61B的例子用的是dogs～\"Wooooooooooof!\""
   ]
  },
  {
   "cell_type": "code",
   "execution_count": null,
   "metadata": {
    "vscode": {
     "languageId": "cpp"
    }
   },
   "outputs": [],
   "source": [
    "/* a class that represents rectangle. */\n",
    "class CRectangle{\n",
    "    public:\n",
    "        int w,h;\n",
    "        int Area(){\n",
    "            return w * h;\n",
    "        }\n",
    "        int Perimeter(){\n",
    "            return 2 * (w + h);\n",
    "        }\n",
    "        void Init(int w_, int h_){\n",
    "            w = w_;\n",
    "            h = h_;\n",
    "        }\n",
    "};"
   ]
  },
  {
   "cell_type": "code",
   "execution_count": null,
   "metadata": {
    "vscode": {
     "languageId": "cpp"
    }
   },
   "outputs": [],
   "source": [
    "int main(){\n",
    "    int w = 4, h = 5;\n",
    "    CRectangle r;\n",
    "    // cin >> w >> h;\n",
    "    r.Init(w, h); // initialize the width and height of the rectangle r\n",
    "    \n",
    "}"
   ]
  },
  {
   "cell_type": "markdown",
   "metadata": {},
   "source": [
    "通过类，可以定义变量。\n",
    "\n",
    "类定义出来的变量，称为类的实例，也称为对象。\n",
    "\n",
    "对象所占用的内存空间的大小=所有成员变量函数的大小之和\n",
    "\n",
    "每个对象各有自己的对应空间！"
   ]
  },
  {
   "cell_type": "markdown",
   "metadata": {},
   "source": [
    "### 对象间的运算\n",
    "对象之间可以用等号进行赋值，但除非对运算符进行了“重载”，不能用运算符比较两个对象。"
   ]
  },
  {
   "cell_type": "markdown",
   "metadata": {},
   "source": [
    "### 使用类的成员变量和函数\n",
    "1.对象名.成员名\n",
    "\n",
    "2.指针->成员名\n",
    "\n",
    "3.引用名.成员名"
   ]
  },
  {
   "cell_type": "code",
   "execution_count": null,
   "metadata": {
    "vscode": {
     "languageId": "cpp"
    }
   },
   "outputs": [],
   "source": [
    "CRectangle r2;\n",
    "CRectangle & rr = r2;"
   ]
  },
  {
   "cell_type": "markdown",
   "metadata": {},
   "source": [
    "类型名 & 引用名=某变量名"
   ]
  },
  {
   "cell_type": "code",
   "execution_count": 8,
   "metadata": {
    "vscode": {
     "languageId": "cpp"
    }
   },
   "outputs": [
    {
     "data": {
      "text/markdown": [
       "3"
      ]
     },
     "metadata": {},
     "output_type": "display_data"
    }
   ],
   "source": [
    "int n = 4;\n",
    "int &r = n;\n",
    "r = 3;\n",
    "printf(\"%d\",r);"
   ]
  },
  {
   "cell_type": "code",
   "execution_count": 10,
   "metadata": {
    "vscode": {
     "languageId": "cpp"
    }
   },
   "outputs": [
    {
     "data": {
      "text/markdown": [
       "3"
      ]
     },
     "metadata": {},
     "output_type": "display_data"
    }
   ],
   "source": [
    "int n = 4;\n",
    "int &r = n;\n",
    "r = 3;\n",
    "printf(\"%d\",n);"
   ]
  },
  {
   "cell_type": "markdown",
   "metadata": {},
   "source": [
    "注：C语言中，交换两个整型变量的值，只能用指针"
   ]
  },
  {
   "cell_type": "markdown",
   "metadata": {},
   "source": [
    "函数的返回值可以是引用。"
   ]
  },
  {
   "cell_type": "code",
   "execution_count": 13,
   "metadata": {
    "vscode": {
     "languageId": "cpp"
    }
   },
   "outputs": [
    {
     "data": {
      "text/markdown": [
       "40"
      ]
     },
     "metadata": {},
     "output_type": "display_data"
    }
   ],
   "source": [
    "int n = 4;\n",
    "int & SetValue(){return n;}\n",
    "int main(){\n",
    "    SetValue() = 40;\n",
    "    printf(\"%d\", n);\n",
    "}\n"
   ]
  },
  {
   "cell_type": "markdown",
   "metadata": {},
   "source": [
    "### 常引用\n",
    "加const关键字"
   ]
  },
  {
   "cell_type": "code",
   "execution_count": 14,
   "metadata": {
    "vscode": {
     "languageId": "cpp"
    }
   },
   "outputs": [
    {
     "name": "stderr",
     "output_type": "stream",
     "text": [
      "/var/folders/gm/pwvcthxs0n7gq__hjmpcmbtm0000gn/T/tmp0sg5mtff.cpp:9:3: error: cannot assign to variable 'r' with const-qualified type 'const int &'\n",
      "r = 15;\n",
      "~ ^\n",
      "/var/folders/gm/pwvcthxs0n7gq__hjmpcmbtm0000gn/T/tmp0sg5mtff.cpp:7:13: note: variable 'r' declared const here\n",
      "const int & r = n;\n",
      "~~~~~~~~~~~~^~~~~\n",
      "1 error generated.\n",
      "\n",
      "[C++ 14 kernel] Interpreter exited with code 1. The executable cannot be executed"
     ]
    }
   ],
   "source": [
    "int n = 3;\n",
    "const int & r = n;\n",
    "// 不能用引用去修改它！\n",
    "r = 15;"
   ]
  },
  {
   "cell_type": "markdown",
   "metadata": {},
   "source": [
    "（看上面的报错信息！）"
   ]
  },
  {
   "cell_type": "code",
   "execution_count": 15,
   "metadata": {
    "vscode": {
     "languageId": "cpp"
    }
   },
   "outputs": [
    {
     "data": {
      "text/markdown": [
       "15"
      ]
     },
     "metadata": {},
     "output_type": "display_data"
    }
   ],
   "source": [
    "int n = 3;\n",
    "const int & r = n;\n",
    "n = 15;\n",
    "printf(\"%d\", n);"
   ]
  },
  {
   "cell_type": "markdown",
   "metadata": {},
   "source": [
    "注：const T & 和 T & 是不同的类型\n",
    "\n",
    "T & 类型的引用或 T 类型的变量可以用来初始化 const T & 类型的引用\n",
    "\n",
    "但是反过来不可以，除非进行强制类型转换"
   ]
  },
  {
   "cell_type": "markdown",
   "metadata": {},
   "source": [
    "### 类的成员函数的另一种写法\n",
    "函数体和类的定义分开写"
   ]
  },
  {
   "cell_type": "code",
   "execution_count": 16,
   "metadata": {
    "vscode": {
     "languageId": "cpp"
    }
   },
   "outputs": [],
   "source": [
    "class CRectangle{\n",
    "    public:\n",
    "        int w,h;\n",
    "        int Area();\n",
    "        int Perimeter();\n",
    "        void Init(int w_, int h_);\n",
    "};"
   ]
  },
  {
   "cell_type": "code",
   "execution_count": null,
   "metadata": {
    "vscode": {
     "languageId": "cpp"
    }
   },
   "outputs": [],
   "source": [
    "int CRectangle::Area(){\n",
    "    return w * h;\n",
    "}"
   ]
  },
  {
   "cell_type": "markdown",
   "metadata": {},
   "source": [
    "### 类成员的访问权限"
   ]
  },
  {
   "cell_type": "code",
   "execution_count": null,
   "metadata": {
    "vscode": {
     "languageId": "cpp"
    }
   },
   "outputs": [],
   "source": [
    "class className{\n",
    "    private:\n",
    "        // 私有属性和函数\n",
    "    public:\n",
    "        // 公有属性和函数\n",
    "    protected:\n",
    "        // 保护属性和函数\n",
    "}"
   ]
  },
  {
   "cell_type": "markdown",
   "metadata": {},
   "source": [
    "> 注：无关键字则默认private；以上三种关键字出现次数和先后顺序无限制"
   ]
  },
  {
   "cell_type": "markdown",
   "metadata": {},
   "source": [
    "在类的成员函数以外只能访问public"
   ]
  },
  {
   "cell_type": "markdown",
   "metadata": {},
   "source": [
    "> 多说一点：Python没有public和private之类的机制～\n",
    "> 一般python中在变量名前加下横线来防止外界调用"
   ]
  },
  {
   "cell_type": "markdown",
   "metadata": {},
   "source": [
    "### 可以用struct定义类\n",
    "但是struct未说明公有和私有的时候假定都是公有！\n",
    "\n",
    "其他的与class无区别。"
   ]
  },
  {
   "cell_type": "markdown",
   "metadata": {},
   "source": [
    "### 函数重载\n",
    "一个或多个函数，名字相同，但是参数个数与参数类型不相同，成为函数的重载"
   ]
  },
  {
   "cell_type": "code",
   "execution_count": null,
   "metadata": {
    "vscode": {
     "languageId": "cpp"
    }
   },
   "outputs": [],
   "source": [
    "int mymax(double f1, double f2);\n",
    "int mymax(int t1, int t2);\n",
    "int mymax(int t1, int t2, int t3);"
   ]
  },
  {
   "cell_type": "code",
   "execution_count": null,
   "metadata": {
    "vscode": {
     "languageId": "cpp"
    }
   },
   "outputs": [],
   "source": [
    "mymax(3, 2.4) // 报错！二义性出现"
   ]
  },
  {
   "cell_type": "markdown",
   "metadata": {},
   "source": [
    "### 函数的缺省参数\n",
    "定义函数时可以让最右边的连续若干个参数有缺省值"
   ]
  },
  {
   "cell_type": "code",
   "execution_count": 20,
   "metadata": {
    "vscode": {
     "languageId": "cpp"
    }
   },
   "outputs": [
    {
     "data": {
      "text/markdown": [
       "6"
      ]
     },
     "metadata": {},
     "output_type": "display_data"
    }
   ],
   "source": [
    "int func(int t1, int t2, int t3 = 3){\n",
    "    return t1 + t2 + t3;\n",
    "}\n",
    "int main(){\n",
    "    int k = func(1, 2);\n",
    "    printf(\"%d\", k);\n",
    "    return 0;\n",
    "}"
   ]
  },
  {
   "cell_type": "markdown",
   "metadata": {},
   "source": [
    "### 构造函数\n",
    "类定义好后应运而生的函数（constructor），名称和类名一样\n",
    "\n",
    "如果没有写构造函数，编译器会生成一个默认无参数的构造函数\n",
    "\n",
    "**对象生成时构造函数会自动调用！**"
   ]
  },
  {
   "cell_type": "code",
   "execution_count": null,
   "metadata": {
    "vscode": {
     "languageId": "cpp"
    }
   },
   "outputs": [],
   "source": [
    "class complex{\n",
    "    private:\n",
    "        double real;\n",
    "        double imag;\n",
    "    public:\n",
    "        void Set(double r, double i);\n",
    "}; // 编译器生成默认函数"
   ]
  },
  {
   "cell_type": "code",
   "execution_count": null,
   "metadata": {
    "vscode": {
     "languageId": "cpp"
    }
   },
   "outputs": [],
   "source": [
    "complex c1; // ok"
   ]
  },
  {
   "cell_type": "code",
   "execution_count": null,
   "metadata": {
    "vscode": {
     "languageId": "cpp"
    }
   },
   "outputs": [],
   "source": [
    "// Now we write a constructor.\n",
    "complex::complex(double r, double i){\n",
    "    real = r;\n",
    "    imag = i;\n",
    "} // 自己定义构造函数"
   ]
  },
  {
   "cell_type": "code",
   "execution_count": null,
   "metadata": {
    "vscode": {
     "languageId": "cpp"
    }
   },
   "outputs": [],
   "source": [
    "complex c1; // error!\n",
    "complex c2(1, 2); // ok"
   ]
  },
  {
   "cell_type": "markdown",
   "metadata": {},
   "source": [
    "构造函数最好是public的，private构造函数不能直接用来初始化对象\n",
    "\n",
    "可以定义多个构造函数！"
   ]
  }
 ],
 "metadata": {
  "kernelspec": {
   "display_name": "C++ 14",
   "language": "cpp",
   "name": "cpp14"
  },
  "language_info": {
   "file_extension": ".cpp",
   "mimetype": "text/markdown",
   "name": "text/markdown"
  }
 },
 "nbformat": 4,
 "nbformat_minor": 2
}
