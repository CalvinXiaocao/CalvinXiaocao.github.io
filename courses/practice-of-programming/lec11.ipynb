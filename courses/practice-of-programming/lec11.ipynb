{
 "cells": [
  {
   "cell_type": "markdown",
   "metadata": {},
   "source": [
    "# Lecture 11\n",
    "practice of programming 程序设计实习\n",
    "\n",
    "2024.4.7"
   ]
  },
  {
   "cell_type": "markdown",
   "metadata": {},
   "source": [
    "## 函数对象\n",
    "* 一个类重载了()运算符：该类为函数对象类\n",
    "* 这个类的对象：函数对象\n",
    "* 看上去像函数调用，实际上也进行了函数调用\n",
    "\n",
    "目的：为了STL算法可复用"
   ]
  },
  {
   "cell_type": "code",
   "execution_count": 2,
   "metadata": {
    "vscode": {
     "languageId": "cpp"
    }
   },
   "outputs": [
    {
     "data": {
      "text/markdown": [
       "2.66667\n",
       "\n"
      ]
     },
     "metadata": {},
     "output_type": "display_data"
    }
   ],
   "source": [
    "#include <iostream>\n",
    "using namespace std;\n",
    "\n",
    "class Average {\n",
    "    public:\n",
    "        double operator()(int a1, int a2, int a3) {\n",
    "            return (double)(a1 + a2 + a3) / 3;\n",
    "        }\n",
    "};\n",
    "\n",
    "int main() {\n",
    "    Average ave;\n",
    "    cout << ave(3, 2, 3) << endl;\n",
    "    return 0;\n",
    "}"
   ]
  },
  {
   "cell_type": "markdown",
   "metadata": {},
   "source": [
    "### 函数对象的应用\n",
    "STL函数模版中定义的子操作可以是函数对象"
   ]
  },
  {
   "cell_type": "markdown",
   "metadata": {},
   "source": [
    "例：numeric"
   ]
  },
  {
   "cell_type": "code",
   "execution_count": null,
   "metadata": {
    "vscode": {
     "languageId": "cpp"
    }
   },
   "outputs": [],
   "source": [
    "#include <numeric>\n",
    "#include <iterator>\n",
    "#include <algorithm>\n",
    "#include <iostream>\n",
    "using namespace std;\n",
    "\n",
    "template <class T>\n",
    "class SumSquares {\n",
    "    public:\n",
    "        const T & operator()(const T & total, const T & value) {\n",
    "            return total + value * value;\n",
    "        }\n",
    "};\n",
    "\n",
    "template <class T>\n",
    "class SumPowers {\n",
    "    private:\n",
    "        int power;\n",
    "    public:\n",
    "        SumPowers(int p): power(p) {}\n",
    "        const T & operator()(const T & total, const T & value) {\n",
    "            T v = value;\n",
    "            for (int i = 0; i < power - 1; ++i) {\n",
    "                v = v * value;\n",
    "            }\n",
    "            return total + v;\n",
    "        }\n",
    "};\n",
    "\n",
    "int main() {\n",
    "    const int SIZE = 10;\n",
    "    int a1[] = {1, 2, 3, 4, 5, 6, 7, 8, 9, 10};\n",
    "    vector<int> v(a1, a1 + SIZE);\n",
    "    ostream_iterator<int> output(cout, \" \");\n",
    "    cout << \"1) \";\n",
    "    copy(v.begin(), v.end(), output);\n",
    "    cout << endl;\n",
    "    result = accumulate(a1, a1 + 10, SumSquares<int>);\n",
    "}"
   ]
  },
  {
   "cell_type": "markdown",
   "metadata": {},
   "source": [
    "STL中的\\<function\\>里面还有函数对象类模版\n",
    "### greater"
   ]
  },
  {
   "cell_type": "code",
   "execution_count": null,
   "metadata": {
    "vscode": {
     "languageId": "cpp"
    }
   },
   "outputs": [],
   "source": [
    "template<class T>\n",
    "struct greater: public binary_function<T, T, bool> {\n",
    "    bool operator()(const T & x, const T & y) const {\n",
    "        return x > y;\n",
    "    }\n",
    "}"
   ]
  },
  {
   "cell_type": "markdown",
   "metadata": {},
   "source": [
    "greater应用：\n",
    "\n",
    "sort in list"
   ]
  },
  {
   "cell_type": "markdown",
   "metadata": {},
   "source": [
    "## 关联容器"
   ]
  },
  {
   "cell_type": "markdown",
   "metadata": {},
   "source": [
    "内部元素有序排列，新元素插入位置取决于它的值"
   ]
  },
  {
   "cell_type": "markdown",
   "metadata": {},
   "source": [
    "### Multiset"
   ]
  },
  {
   "cell_type": "code",
   "execution_count": null,
   "metadata": {
    "vscode": {
     "languageId": "cpp"
    }
   },
   "outputs": [],
   "source": [
    "template<class Key, class Pred = less<Key>, class A = allocator<Key>>\n",
    "class Multiset{...};"
   ]
  },
  {
   "cell_type": "markdown",
   "metadata": {},
   "source": [
    "使用时include\\<set\\>"
   ]
  },
  {
   "cell_type": "markdown",
   "metadata": {},
   "source": [
    "key需要有小于号！"
   ]
  },
  {
   "cell_type": "markdown",
   "metadata": {},
   "source": [
    "### set\n",
    "插入已有元素，插入不成功"
   ]
  },
  {
   "cell_type": "markdown",
   "metadata": {},
   "source": [
    "### map, multimap"
   ]
  },
  {
   "cell_type": "code",
   "execution_count": null,
   "metadata": {
    "vscode": {
     "languageId": "cpp"
    }
   },
   "outputs": [],
   "source": [
    "template<class Key, class Value, class Pred = less<Key>, class A = allocator<Key>>\n",
    "class Multiset{...};"
   ]
  },
  {
   "cell_type": "markdown",
   "metadata": {},
   "source": [
    "按照key排好序！\n",
    "\n",
    "map中key不允许相同"
   ]
  },
  {
   "cell_type": "markdown",
   "metadata": {},
   "source": [
    "## 容器适配器\n",
    "* stack\n",
    "* queue\n",
    "* priority-queue\n",
    "### stack\n",
    "push/pop/top 从栈顶\n",
    "### queue\n",
    "push/top 一端 pop 另一端\n",
    "### PQ\n",
    "堆排序"
   ]
  },
  {
   "cell_type": "markdown",
   "metadata": {},
   "source": [
    "## STL算法分类\n",
    "大多数算法至少有两个版本，用==和<，或者用op(x, y)"
   ]
  },
  {
   "cell_type": "markdown",
   "metadata": {},
   "source": [
    "### 不变序列算法\n",
    "* count\n",
    "* count_if\n",
    "* find\n",
    "* find_if\n",
    "* find_end\n",
    "* find_first_of\n",
    "* adjacent_find\n",
    "* search\n",
    "* search_n\n",
    "* equal\n",
    "* mismatch\n",
    "* lexicographical_compare\n",
    "* min_element\n",
    "* max_element"
   ]
  }
 ],
 "metadata": {
  "kernelspec": {
   "display_name": "C++ 14",
   "language": "cpp",
   "name": "cpp14"
  },
  "language_info": {
   "file_extension": ".cpp",
   "mimetype": "text/markdown",
   "name": "text/markdown"
  }
 },
 "nbformat": 4,
 "nbformat_minor": 2
}
