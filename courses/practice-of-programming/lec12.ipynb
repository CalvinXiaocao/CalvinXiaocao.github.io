{
 "cells": [
  {
   "cell_type": "markdown",
   "metadata": {},
   "source": [
    "# Lecture 12\n",
    "practice of programming 程序设计实习\n",
    "\n",
    "2024.4.10"
   ]
  },
  {
   "cell_type": "markdown",
   "metadata": {},
   "source": [
    "## STL中的算法（续）\n",
    "删除一个容器中的某些元素，不会使容器中的元素减少，删除的看成空位子，拿留下的元素去填"
   ]
  },
  {
   "cell_type": "markdown",
   "metadata": {},
   "source": [
    "## C++11\n",
    "### 使用大括号初始化\n",
    "stl可以用大括号进行初始化\n",
    "### 成员变量默认初始值\n",
    "\n",
    "### auto关键字\n",
    "auto自动判断变量的类型\n",
    "\n",
    "### decltype关键字\n",
    "求表达式的类型"
   ]
  },
  {
   "cell_type": "markdown",
   "metadata": {},
   "source": [
    "### shared_ptr"
   ]
  }
 ],
 "metadata": {
  "language_info": {
   "name": "python"
  }
 },
 "nbformat": 4,
 "nbformat_minor": 2
}
