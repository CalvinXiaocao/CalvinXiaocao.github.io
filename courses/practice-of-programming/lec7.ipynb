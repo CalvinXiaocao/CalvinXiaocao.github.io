{
 "cells": [
  {
   "cell_type": "markdown",
   "metadata": {},
   "source": [
    "# Lecture 7\n",
    "practice of programming 程序设计实习\n",
    "\n",
    "2024.3.20"
   ]
  },
  {
   "cell_type": "markdown",
   "metadata": {},
   "source": [
    "## Review\n",
    "继承——**is关系**，抽象出所有类之间共同的特点\n",
    "\n",
    "复合：**has关系**\n",
    "\n",
    "protected成员：可以被子类访问到\n",
    "\n",
    "构造顺序：基类->对象成员->派生类（析构顺序反之）"
   ]
  },
  {
   "cell_type": "markdown",
   "metadata": {},
   "source": [
    "## 多态 polymorphism"
   ]
  },
  {
   "cell_type": "markdown",
   "metadata": {},
   "source": []
  }
 ],
 "metadata": {
  "language_info": {
   "name": "python"
  }
 },
 "nbformat": 4,
 "nbformat_minor": 2
}
