{
 "cells": [
  {
   "cell_type": "markdown",
   "metadata": {},
   "source": [
    "# Lecture 7\n",
    "practice of programming 程序设计实习\n",
    "\n",
    "2024.3.20"
   ]
  },
  {
   "cell_type": "markdown",
   "metadata": {},
   "source": [
    "## Review\n",
    "继承——**is关系**，抽象出所有类之间共同的特点\n",
    "\n",
    "复合：**has关系**\n",
    "\n",
    "protected成员：可以被子类访问到\n",
    "\n",
    "构造顺序：基类->对象成员->派生类（析构顺序反之）"
   ]
  },
  {
   "cell_type": "markdown",
   "metadata": {},
   "source": [
    "## 多态 polymorphism\n",
    "`多态——多种形态。`"
   ]
  },
  {
   "cell_type": "markdown",
   "metadata": {},
   "source": [
    "* 封装-类的抽象和设计/可见性\n",
    "* 继承-基类派生类/代码的继承\n",
    "* 多态-函数重载/？？？"
   ]
  },
  {
   "cell_type": "markdown",
   "metadata": {},
   "source": [
    "### 虚函数\n",
    "类的定义中，前面有virtual关键字的成员函数就是虚函数"
   ]
  },
  {
   "cell_type": "markdown",
   "metadata": {},
   "source": [
    "> NOTE: In Java, all class methods are in default \"virtual\"!"
   ]
  },
  {
   "cell_type": "code",
   "execution_count": null,
   "metadata": {},
   "outputs": [],
   "source": [
    "class base {\n",
    "    virtual int get();\n",
    "};\n",
    "\n",
    "int base::get() {\n",
    "    ...\n",
    "}"
   ]
  },
  {
   "cell_type": "markdown",
   "metadata": {},
   "source": [
    "派生类指针可以赋值给基类指针\n",
    "\n",
    "通过基类指针调用基类和派生类中的同名虚函数时：\n",
    "* 若该指针指向一个**基类**的对象，则被调用的是基类的虚函数\n",
    "* 若该指针指向一个**派生类**的对象，则被调用的是派生类的虚函数"
   ]
  },
  {
   "cell_type": "code",
   "execution_count": 1,
   "metadata": {},
   "outputs": [
    {
     "data": {
      "text/markdown": [
       "A!\n",
       "\n",
       "B!\n",
       "\n",
       "D!\n",
       "\n",
       "E!\n",
       "\n"
      ]
     },
     "metadata": {},
     "output_type": "display_data"
    }
   ],
   "source": [
    "#include <iostream>\n",
    "using namespace std;\n",
    "\n",
    "class A {\n",
    "    public:\n",
    "        virtual void foo() {\n",
    "            cout << \"A!\" << endl;\n",
    "        }\n",
    "};\n",
    "\n",
    "class B: public A {\n",
    "    public:\n",
    "        virtual void foo() {\n",
    "            cout << \"B!\" << endl;\n",
    "        }\n",
    "};\n",
    "\n",
    "class D: public A {\n",
    "    public:\n",
    "        virtual void foo() {\n",
    "            cout << \"D!\" << endl;\n",
    "        }\n",
    "};\n",
    "\n",
    "class E: public B {\n",
    "    public:\n",
    "        virtual void foo() {\n",
    "            cout << \"E!\" << endl;\n",
    "        }\n",
    "};\n",
    "\n",
    "int main() {\n",
    "    A a;\n",
    "    B b;\n",
    "    E e;\n",
    "    D d;\n",
    "    A *pa = &a;\n",
    "    B *pb = &b;\n",
    "    D *pd = &d;\n",
    "    E *pe = &e;\n",
    "    pa->foo();\n",
    "    pa = pb;\n",
    "    pa->foo();\n",
    "    pa = pd;\n",
    "    pa->foo();\n",
    "    pa = pe;\n",
    "    pa->foo();\n",
    "    return 0;\n",
    "}"
   ]
  },
  {
   "cell_type": "markdown",
   "metadata": {},
   "source": [
    "> 注：如果删掉派生类中的virtual关键字，效果相同"
   ]
  },
  {
   "cell_type": "markdown",
   "metadata": {},
   "source": [
    "### 多态的实质\n",
    "父类定义共同接口，子类不同实现\n",
    "\n",
    "通过父类以相同的方式操作子类函数"
   ]
  },
  {
   "cell_type": "markdown",
   "metadata": {},
   "source": [
    "### 纯虚函数\n",
    "virtual type function() = 0;"
   ]
  },
  {
   "cell_type": "markdown",
   "metadata": {},
   "source": [
    "### 动态联编\n",
    "一条函数调用语句在编译时无法确定调用哪个函数\n",
    "#### 虚函数表\n",
    "每个有虚函数的类都有一个虚函数表，存放虚函数表的指针\n",
    "\n",
    "> 注：访问权限检查是根据指针类型来的"
   ]
  },
  {
   "cell_type": "markdown",
   "metadata": {},
   "source": [
    "### 虚析构函数\n",
    "通常只调用基类的析构函数\n",
    "\n",
    "把基类的析构函数声明为virtual"
   ]
  },
  {
   "cell_type": "markdown",
   "metadata": {},
   "source": [
    "### 纯虚函数\n",
    "没有函数体的虚函数\n",
    "\n",
    "包含纯虚函数的抽象类为“抽象类”\n",
    "\n",
    "抽象类不能用来创建抽象对象，但是他的指针和引用可以指向由抽象类派生出的对象"
   ]
  }
 ],
 "metadata": {
  "kernelspec": {
   "display_name": "C++ 14",
   "language": "cpp",
   "name": "cpp14"
  },
  "language_info": {
   "file_extension": ".cpp",
   "mimetype": "text/markdown",
   "name": "cpp"
  }
 },
 "nbformat": 4,
 "nbformat_minor": 2
}
