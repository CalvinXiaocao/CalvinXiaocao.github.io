{
 "cells": [
  {
   "cell_type": "markdown",
   "metadata": {},
   "source": [
    "# Lecture 5\n",
    "practice of programming 程序设计实习\n",
    "\n",
    "2024.3.8"
   ]
  },
  {
   "cell_type": "markdown",
   "metadata": {},
   "source": [
    "## 补充上节课内容\n",
    "封闭类对象生成时：先执行所有成员对象的构造，再执行封闭类的构造函数\n",
    "\n",
    "消亡时：跟构造顺序相反\n",
    "\n",
    "### 封闭类的复制构造函数\n",
    "封闭类的对象，如果是用默认复制构造函数初始化，则它里面包含的成员对象，也会用复制构造函数初始化"
   ]
  },
  {
   "cell_type": "code",
   "execution_count": 2,
   "metadata": {},
   "outputs": [
    {
     "data": {
      "text/markdown": [
       "default\n",
       "\n",
       "copy\n",
       "\n"
      ]
     },
     "metadata": {},
     "output_type": "display_data"
    }
   ],
   "source": [
    "#include <iostream>\n",
    "using namespace std;\n",
    "class A{\n",
    "    public:\n",
    "        A(){\n",
    "            cout << \"default\" << endl;\n",
    "        }\n",
    "        A(const A & a){\n",
    "            cout << \"copy\" << endl;\n",
    "        }\n",
    "};\n",
    "\n",
    "class B{\n",
    "    A a;\n",
    "};\n",
    "\n",
    "int main(){\n",
    "    B b1, b2(b1);\n",
    "    return 0;\n",
    "}"
   ]
  },
  {
   "cell_type": "markdown",
   "metadata": {},
   "source": [
    "### 其他特殊成员\n",
    "const 成员和引用成员\n",
    "\n",
    "初始化时，必须使用初始化成员列表"
   ]
  },
  {
   "cell_type": "markdown",
   "metadata": {},
   "source": [
    "### 友元\n",
    "友元分为友元函数和友元类两种\n",
    "\n",
    "* 友元函数：一个类的友元函数可以访问该类的私有成员\n",
    "* 友元类："
   ]
  },
  {
   "cell_type": "code",
   "execution_count": 4,
   "metadata": {},
   "outputs": [],
   "source": [
    "class CCar;\n",
    "class CDriver{\n",
    "    public:\n",
    "        void ModifyCar(CCar * pCar);\n",
    "};\n",
    "class CCar{\n",
    "    private:\n",
    "        int price;\n",
    "    // friend int MostExpensiveCar(CCar cars[], int total);\n",
    "    friend void CDriver::ModifyCar(CCar * pCar);\n",
    "};\n",
    "void CDriver::ModifyCar(CCar * ptr){\n",
    "    ptr->price += 1000;\n",
    "}\n",
    "\n",
    "int main(){\n",
    "    return 0;\n",
    "}"
   ]
  },
  {
   "cell_type": "markdown",
   "metadata": {},
   "source": [
    ">（通过编译！）"
   ]
  },
  {
   "cell_type": "markdown",
   "metadata": {},
   "source": [
    "### 友元类\n",
    "如果A是B的友元类，那么A的成员函数可以访问B的私有成员"
   ]
  },
  {
   "cell_type": "code",
   "execution_count": 5,
   "metadata": {},
   "outputs": [],
   "source": [
    "class CCar{\n",
    "    private:\n",
    "        int price;\n",
    "        friend class CDriver;\n",
    "};\n",
    "class CDriver{\n",
    "    public:\n",
    "        CCar myCar;\n",
    "        void modifyCar(){\n",
    "            myCar.price += 1000;\n",
    "        }\n",
    "};\n",
    "\n",
    "int main(){\n",
    "    return 0;\n",
    "}"
   ]
  },
  {
   "cell_type": "markdown",
   "metadata": {},
   "source": [
    ">（通过编译！）"
   ]
  },
  {
   "cell_type": "markdown",
   "metadata": {},
   "source": [
    "***友元类不能传递，不能继承***"
   ]
  },
  {
   "cell_type": "markdown",
   "metadata": {},
   "source": [
    "## 运算符重载"
   ]
  },
  {
   "cell_type": "markdown",
   "metadata": {},
   "source": [
    "C++预定义了一组运算符，用来表示对数据的运算，但**只能用于基本的数据类型**\n",
    "\n",
    "我们希望沿用C++提供的运算符\n",
    "\n",
    "***运算符重载的实质是函数重载！！！***"
   ]
  },
  {
   "cell_type": "code",
   "execution_count": null,
   "metadata": {},
   "outputs": [],
   "source": [
    "<type> operator_(..., ...){\n",
    "    ...\n",
    "    return ...\n",
    "}"
   ]
  },
  {
   "cell_type": "markdown",
   "metadata": {},
   "source": [
    "运算符可以被多次重载，可以被重载成普通函数，也可以重载为类的函数"
   ]
  },
  {
   "cell_type": "markdown",
   "metadata": {},
   "source": [
    "### 赋值运算符重载\n",
    "赋值运算符两边的类型可以不匹配，需要重载‘=’\n",
    "\n",
    "***赋值运算符只能重载为成员函数！！***\n",
    "\n",
    "> 注意！！！区别赋值和初始化！！！"
   ]
  },
  {
   "cell_type": "markdown",
   "metadata": {},
   "source": [
    "### 重载复制运算符的意义：浅拷贝和深拷贝\n",
    "$S1=S2$ 完成的只是浅复制\n",
    "\n",
    "`GRoE, a.k.a \"The mystery of the Walrus\" (CS 61B)`\n",
    "\n",
    "深拷贝：将一个对象对应的内容复制到第二个对象之中"
   ]
  },
  {
   "cell_type": "markdown",
   "metadata": {},
   "source": [
    "注：1.要防止 $s = s$ 的问题出现！！\n",
    "\n",
    "2.用String &"
   ]
  },
  {
   "cell_type": "markdown",
   "metadata": {},
   "source": [
    "### 运算符重载为友元\n",
    "一般情况下，将运算符重载为类的成员函数，是较好的选择\n",
    "\n",
    "最好将运算符重载为友元"
   ]
  },
  {
   "cell_type": "markdown",
   "metadata": {},
   "source": [
    "### 流插入运算符的重载"
   ]
  },
  {
   "cell_type": "code",
   "execution_count": null,
   "metadata": {},
   "outputs": [],
   "source": [
    "cout << 5 << \"this\";"
   ]
  },
  {
   "cell_type": "markdown",
   "metadata": {},
   "source": [
    "cout是一个对象，在iostream中定义的ostream类的对象"
   ]
  },
  {
   "cell_type": "code",
   "execution_count": null,
   "metadata": {},
   "outputs": [],
   "source": [
    "void operator<<(ostream & o, int n){\n",
    "    Output(n);\n",
    "}\n",
    "\n",
    "void operator<<(ostream & o, const char *s){\n",
    "    Output(s);\n",
    "}"
   ]
  },
  {
   "cell_type": "markdown",
   "metadata": {},
   "source": [
    "这样的实现好吗？\n",
    "\n",
    "cout << 5 << \"this\"能成立吗？"
   ]
  },
  {
   "cell_type": "code",
   "execution_count": null,
   "metadata": {},
   "outputs": [],
   "source": [
    "ostream & operator<<(ostream & o, int n){\n",
    "    Output(n);\n",
    "    return o;\n",
    "}\n",
    "\n",
    "ostream & operator<<(ostream & o, const char *s){\n",
    "    Output(s);\n",
    "    return o;\n",
    "}"
   ]
  },
  {
   "cell_type": "markdown",
   "metadata": {},
   "source": [
    "[]也能重载！"
   ]
  },
  {
   "cell_type": "code",
   "execution_count": null,
   "metadata": {},
   "outputs": [],
   "source": [
    "int & operator[](int subscript){\n",
    "    return ptr[subscript];\n",
    "}"
   ]
  },
  {
   "cell_type": "markdown",
   "metadata": {},
   "source": [
    "### 重载类型转换运算符\n",
    "强制类型转换运算符被重载时不写其返回值"
   ]
  },
  {
   "cell_type": "code",
   "execution_count": null,
   "metadata": {},
   "outputs": [],
   "source": [
    "operator <type> ()"
   ]
  },
  {
   "cell_type": "markdown",
   "metadata": {},
   "source": [
    "### 自增自减运算符的重载\n",
    "规定：前置运算符作为**一元**运算符重载\n",
    "\n",
    "后置运算符作为**二元**运算符重载"
   ]
  }
 ],
 "metadata": {
  "kernelspec": {
   "display_name": "C++ 14",
   "language": "cpp",
   "name": "cpp14"
  },
  "language_info": {
   "file_extension": ".cpp",
   "mimetype": "text/markdown",
   "name": "cpp"
  }
 },
 "nbformat": 4,
 "nbformat_minor": 2
}
