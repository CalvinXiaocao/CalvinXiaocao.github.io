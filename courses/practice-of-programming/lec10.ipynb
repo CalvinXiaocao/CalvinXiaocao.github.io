{
 "cells": [
  {
   "cell_type": "markdown",
   "metadata": {},
   "source": [
    "# Lecture 10\n",
    "practice of programming 程序设计实习\n",
    "\n",
    "2024.4.3"
   ]
  },
  {
   "cell_type": "markdown",
   "metadata": {},
   "source": [
    "## Announcements\n",
    "`Midterm 4.27 Afternoon!!`\n",
    "\n",
    "4.10 c++11 and more\n",
    "\n",
    "4.17 Qt basics"
   ]
  },
  {
   "cell_type": "markdown",
   "metadata": {},
   "source": [
    "## STL 标准模版库\n",
    "* c++语言的核心优势：软件重用\n",
    "  + 面向对象 OOP\n",
    "  + 泛型程序设计 Generic Programming(Template & STL)"
   ]
  },
  {
   "cell_type": "markdown",
   "metadata": {},
   "source": [
    "### Standard Template Library\n",
    "使用模版的程序设计方法，将一些数据结构（链表，数组，二叉树）和算法（排序，查找）写成模版\n",
    "\n",
    "STL: 一些常用数据结构和算法的模版的集合"
   ]
  },
  {
   "cell_type": "markdown",
   "metadata": {},
   "source": [
    "### STL中的基本概念\n",
    "* 容器：容纳各种数据类型的数据结构\n",
    "* 迭代器：Iterator 可依次存取容器中元素的工具\n",
    "  + 普通C++指针就是一种迭代器\n",
    "* 算法：用来操作元素的函数模版"
   ]
  },
  {
   "cell_type": "markdown",
   "metadata": {},
   "source": [
    "### 容器\n",
    "存放各种类型的数据\n",
    "1. 顺序容器 vector, deque, list\n",
    "2. 关联容器、有序容器 set, multiset, map, multimap\n",
    "3. 容器适配器 stack, queue, priority_queue\n",
    "\n",
    "1和2统一称为第一类容器"
   ]
  },
  {
   "cell_type": "markdown",
   "metadata": {},
   "source": [
    "对象被插入容器时，插入的是**对象的一个复制**\n",
    "\n",
    "放入对象所属的类，应该实现==和<运算符"
   ]
  },
  {
   "cell_type": "markdown",
   "metadata": {},
   "source": [
    "### 顺序容器简介\n",
    "#### vector\n",
    "动态数组，随机存取任何元素的复杂度是$O(1)$，在尾部增删元素具有较高的性能\n",
    "#### deque\n",
    "动态数组，随机存取任何元素的复杂度是$O(1)$（次于vector），在两端增删元素具有较高的性能\n",
    "### list\n",
    "双向链表，在任何位置增删元素都能在常数时间内完成，不支持随机存取\n",
    "\n",
    "### 关联容器简介\n",
    "#### set/multiset \n",
    "集合，set不允许相同元素，multiset中允许存在相同的元素\n",
    "#### map/multimap\n",
    "映射，map中存放的是成对的key/value，并根据key对元素进行排序，可快速根据key检索元素\n",
    "\n",
    "插入和检索时间都是$O(\\log n)$"
   ]
  },
  {
   "cell_type": "markdown",
   "metadata": {},
   "source": [
    "### 容器适配器\n",
    "#### stack\n",
    "栈，后进先出\n",
    "#### queue\n",
    "队列，先进先出\n",
    "#### priority_queue\n",
    "优先队列，最高优先级元素第一个出列"
   ]
  },
  {
   "cell_type": "markdown",
   "metadata": {},
   "source": [
    "### 容器的共有成员函数\n",
    "* 比较两个容器的运算符\n",
    "* empty：判断是否有元素\n",
    "* max_size：最多几个元素\n",
    "* swap：交换"
   ]
  },
  {
   "cell_type": "code",
   "execution_count": 1,
   "metadata": {},
   "outputs": [
    {
     "data": {
      "text/markdown": [
       "0\n",
       "\n"
      ]
     },
     "metadata": {},
     "output_type": "display_data"
    }
   ],
   "source": [
    "#include <vector>\n",
    "#include <iostream>\n",
    "using namespace std;\n",
    "class A{\n",
    "    private:\n",
    "        int n;\n",
    "    public:\n",
    "        friend bool operator<(const A & o1, const A & o2){\n",
    "            return o1.n < o2.n;\n",
    "        }\n",
    "        A(int _n) {\n",
    "            n = _n;\n",
    "        }\n",
    "};\n",
    "\n",
    "int main() {\n",
    "    vector<A> v1;\n",
    "    vector<A> v2;\n",
    "    v1.push_back(A(5));\n",
    "    v1.push_back(A(1));\n",
    "    v2.push_back(A(1));\n",
    "    v2.push_back(A(2));\n",
    "    v2.push_back(A(3));\n",
    "    cout << (v1 < v2) << endl;\n",
    "    return 0;\n",
    "}"
   ]
  },
  {
   "cell_type": "markdown",
   "metadata": {},
   "source": [
    "#### 只在第一类容器中的函数\n",
    "* begin: 返回指向容器中第一个元素的迭代器\n",
    "* end: 返回指向容器中最后一个元素后面的位置的迭代器\n",
    "* rbegin: 返回指向容器中最后一个元素的迭代器\n",
    "* rend: 返回指向容器中第一个元素前面的位置的迭代器\n",
    "* erase: 删一个或者几个\n",
    "* clear: 删全部元素\n",
    "\n",
    "### Iterator 迭代器\n",
    "用于指向第一类容器中的元素，有const和非const两种\n",
    "\n",
    "通过迭代器可以读取它指向的元素\n",
    "\n",
    "通过非const迭代器还可以修改其指向的元素\n",
    "\n",
    "迭代器可以执行++操作，指向容器的下一个元素\n",
    "\n",
    "如果迭代器到达了某一个容器中的最后一个元素的后面，则past-the-end"
   ]
  },
  {
   "cell_type": "code",
   "execution_count": 7,
   "metadata": {},
   "outputs": [
    {
     "data": {
      "text/markdown": [
       "1\n",
       "\n",
       "2\n",
       "\n",
       "3\n",
       "\n",
       "4\n",
       "\n",
       "4\n",
       "\n",
       "3\n",
       "\n",
       "2\n",
       "\n",
       "1\n",
       "\n",
       "100\n",
       "\n",
       "100\n",
       "\n",
       "100\n",
       "\n",
       "100\n",
       "\n"
      ]
     },
     "metadata": {},
     "output_type": "display_data"
    }
   ],
   "source": [
    "#include <vector>\n",
    "#include <iostream>\n",
    "using namespace std;\n",
    "int main() {\n",
    "    vector<int> v;\n",
    "    v.push_back(1);\n",
    "    v.push_back(2);\n",
    "    v.push_back(3);\n",
    "    v.push_back(4);\n",
    "    vector<int>::const_iterator i;\n",
    "    for (i = v.begin(); i != v.end(); i++) {\n",
    "        cout << *i << endl;\n",
    "    }\n",
    "\n",
    "    vector<int>::reverse_iterator r;\n",
    "    for (r = v.rbegin(); r != v.rend(); r++) {\n",
    "        cout << *r << endl;\n",
    "    }\n",
    "\n",
    "    vector<int>::iterator j;\n",
    "    for (j = v.begin(); j != v.end(); j++) {\n",
    "        *j = 100;\n",
    "        cout << *j << endl;\n",
    "    }\n",
    "}"
   ]
  },
  {
   "cell_type": "markdown",
   "metadata": {},
   "source": [
    "### 容器与迭代器\n",
    "容器的迭代器按功能分为五种\n",
    "\n",
    "全部：++p, p++\n",
    "* 输入 *p, p = p1, p == p1, p != p1\n",
    "* 输出 *p, p = p1\n",
    "* 正向 上面全部\n",
    "* 双向 上面全部, --p, p--\n",
    "* 随机访问 p += i, p -= i，<\n",
    "\n",
    "vector和deque是随机迭代器，list/set/map是双向迭代器"
   ]
  },
  {
   "cell_type": "markdown",
   "metadata": {},
   "source": [
    "### 算法简介\n",
    "70多种标准算法\n",
    "\n",
    "算法就是一个个函数模版，通过迭代器操作容器中的元素\n",
    "\n",
    "许多算法需要两个迭代器，起始元素，终止元素后面一个元素\n",
    "\n",
    "copy, remove, fill, replace, random_shuffle, swap\n",
    "\n",
    "equal, mismatch, find, count, search, count_if, for_each, search_n\n",
    "\n",
    "大多在\\<algorithm\\>中定义"
   ]
  },
  {
   "cell_type": "markdown",
   "metadata": {},
   "source": [
    "例：find()"
   ]
  },
  {
   "cell_type": "code",
   "execution_count": null,
   "metadata": {},
   "outputs": [],
   "source": [
    "template <class InIt, class T>\n",
    "InIt find(InIt first, InIt last, const T & val);"
   ]
  },
  {
   "cell_type": "markdown",
   "metadata": {},
   "source": [
    "first和last都是容器的iterator，给出了容器查找区间的起点和终点\n",
    "\n",
    "`左闭右开的区间`"
   ]
  },
  {
   "cell_type": "code",
   "execution_count": 13,
   "metadata": {},
   "outputs": [
    {
     "data": {
      "text/markdown": [
       "NOT\n",
       "\n",
       "3\n",
       "\n",
       "20\n",
       "\n"
      ]
     },
     "metadata": {},
     "output_type": "display_data"
    }
   ],
   "source": [
    "#include <vector>\n",
    "#include <algorithm>\n",
    "#include <iostream>\n",
    "using namespace std;\n",
    "int main() {\n",
    "    int array[10] = {10, 20, 30, 40};\n",
    "    vector<int> v;\n",
    "    v.push_back(1);\n",
    "    v.push_back(2);\n",
    "    v.push_back(3);\n",
    "    v.push_back(4);\n",
    "\n",
    "    vector<int>::iterator p;\n",
    "    p = find(v.begin(), v.end(), 9);\n",
    "    if (p == v.end()) {\n",
    "        cout << \"NOT\" << endl;\n",
    "    }\n",
    "    p = find(v.begin() + 1, v.end() - 2, 1);\n",
    "    if (p != v.end()) {\n",
    "        cout << *p << endl;\n",
    "    }\n",
    "\n",
    "    int * pp = find(array, array + 4, 20);\n",
    "    cout << *pp << endl;\n",
    "}"
   ]
  },
  {
   "cell_type": "markdown",
   "metadata": {},
   "source": [
    "### STL中大/小/相等的概念\n",
    "比较大小是用小于号进行的\n",
    "\n",
    "x和y相等往往不等价于x==y为真"
   ]
  },
  {
   "cell_type": "code",
   "execution_count": 15,
   "metadata": {},
   "outputs": [
    {
     "data": {
      "text/markdown": [
       "3<9?\n",
       "\n",
       "2<9?\n",
       "\n",
       "1<9?\n",
       "\n",
       "9<1?\n",
       "\n",
       "1\n",
       "\n"
      ]
     },
     "metadata": {},
     "output_type": "display_data"
    }
   ],
   "source": [
    "#include <iostream> \n",
    "#include <algorithm> \n",
    "using namespace std;\n",
    "class A {\n",
    "    int v;\n",
    "    public:\n",
    "        A(int n): v(n) { }\n",
    "        bool operator<(const A & a2) const {\n",
    "            cout << v << \"<\" << a2.v << \"?\" << endl;\n",
    "            return false; \n",
    "        }\n",
    "        bool operator==(const A & a2) const { \n",
    "            cout << v << \"==\" << a2.v << \"?\" << endl;\n",
    "            return v == a2.v;\n",
    "        }\n",
    "};\n",
    "\n",
    "int main() {\n",
    "    A a[] = {A(1), A(2), A(3), A(4), A(5)};\n",
    "    cout << binary_search(a, a + 4, A(9)) << endl; // binary search\n",
    "    return 0;\n",
    "}"
   ]
  },
  {
   "cell_type": "markdown",
   "metadata": {},
   "source": [
    "`9 == 1!!!!!!! Math CRUSHED!!!`"
   ]
  },
  {
   "cell_type": "markdown",
   "metadata": {},
   "source": [
    "### 顺序容器"
   ]
  },
  {
   "cell_type": "code",
   "execution_count": null,
   "metadata": {},
   "outputs": [],
   "source": [
    "front() // 返回第一个元素的引用\n",
    "back() // 返回最后一个元素的引用\n",
    "push_back()\n",
    "pop_back()"
   ]
  }
 ],
 "metadata": {
  "kernelspec": {
   "display_name": "C++ 14",
   "language": "cpp",
   "name": "cpp14"
  },
  "language_info": {
   "file_extension": ".cpp",
   "mimetype": "text/markdown",
   "name": "cpp"
  }
 },
 "nbformat": 4,
 "nbformat_minor": 2
}
