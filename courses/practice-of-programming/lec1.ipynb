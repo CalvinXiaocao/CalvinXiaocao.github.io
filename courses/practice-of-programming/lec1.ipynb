{
 "cells": [
  {
   "cell_type": "markdown",
   "metadata": {},
   "source": [
    "# Lecture 1\n",
    "practice of programming 程序设计实习\n",
    "\n",
    "2024.2.21"
   ]
  },
  {
   "cell_type": "code",
   "execution_count": null,
   "metadata": {
    "vscode": {
     "languageId": "cpp"
    }
   },
   "outputs": [],
   "source": [
    "#include <iostream>\n",
    "using namespace std;"
   ]
  },
  {
   "cell_type": "markdown",
   "metadata": {},
   "source": [
    "## Announcements\n",
    "\n",
    "注：上机课在第3周周末开始，会记分！！\n",
    "\n",
    "POJ 网址：http://cxsjsx.openjudge.cn\n",
    "\n",
    "评分：30+30+40（平时）"
   ]
  },
  {
   "cell_type": "markdown",
   "metadata": {},
   "source": [
    "## C语言补充知识"
   ]
  },
  {
   "cell_type": "markdown",
   "metadata": {},
   "source": [
    "### 命令行参数"
   ]
  },
  {
   "cell_type": "markdown",
   "metadata": {},
   "source": [
    "命令行界面 command line interface\n",
    "\n",
    "通过键盘输入指令，计算机收到指令会执行"
   ]
  },
  {
   "cell_type": "markdown",
   "metadata": {},
   "source": [
    "Windows界面下：打开cmd\n",
    "\n",
    "notepad xyz.txt\n",
    "\n",
    "copy file1.txt file2.txt (复制文件)"
   ]
  },
  {
   "cell_type": "markdown",
   "metadata": {},
   "source": [
    "> 为什么可以传入这些参数？"
   ]
  },
  {
   "cell_type": "code",
   "execution_count": null,
   "metadata": {
    "vscode": {
     "languageId": "cpp"
    }
   },
   "outputs": [],
   "source": [
    "int main(int argc, char * argv[])\n",
    "// argc: 参数的个数，至少为1\n",
    "// argv: 指针数组，每个元素都是一个char*类型的指针"
   ]
  },
  {
   "cell_type": "code",
   "execution_count": null,
   "metadata": {
    "vscode": {
     "languageId": "cpp"
    }
   },
   "outputs": [],
   "source": [
    "// 例子：\n",
    "int main(int argc, char * argv[]){\n",
    "    for(int i=0; i<argc; ++i){\n",
    "        printf(\"%s\\n\", argv[i]);\n",
    "    }\n",
    "    return 0;\n",
    "}"
   ]
  },
  {
   "cell_type": "markdown",
   "metadata": {},
   "source": [
    "将上述代码编译成exe后\n",
    "\n",
    "命令行输入：sample para1 para2 s.txt 3 4\n",
    "\n",
    "输出：\n",
    "\n",
    "sample\n",
    "\n",
    "para1\n",
    "\n",
    "para2\n",
    "\n",
    "s.txt\n",
    "\n",
    "3\n",
    "\n",
    "4"
   ]
  },
  {
   "cell_type": "markdown",
   "metadata": {},
   "source": [
    "> main函数第二个参数的类型是char**！"
   ]
  },
  {
   "cell_type": "markdown",
   "metadata": {},
   "source": [
    "### 位运算\n",
    "负整数的表示：设置“符号位”\n",
    "\n",
    "位运算：对某一个位进行操作\n"
   ]
  },
  {
   "cell_type": "markdown",
   "metadata": {},
   "source": [
    "|符号|名称|特点|应用|\n",
    "|----|----|----|----|\n",
    "|&|按位与|都是1，才为1|将某些位清0或不变|\n",
    "|｜|按位或|都为0，才为0|将某些位置成1|\n",
    "|^|按位抑或|不同才为1|加密解密；不经过临时变量交换值|\n",
    "|~|按位非|取反|/|\n",
    "|<<|左移|将a各个二进制位全左移b位得到的值|用作乘法|\n",
    "|>>|右移|右移b位，原符号位为1则补1，为0则补0|用作除法|"
   ]
  },
  {
   "cell_type": "code",
   "execution_count": null,
   "metadata": {
    "vscode": {
     "languageId": "cpp"
    }
   },
   "outputs": [],
   "source": [
    "void test(){\n",
    "    int n1 = 15;\n",
    "    short n2 = -15;\n",
    "    unsigned short n3 = 0xffe0\n",
    "    char c = 15;\n",
    "    n1 = n1 >> 2;\n",
    "    n2 >>= 3;\n",
    "    n3 >>= 4;\n",
    "    c >>= 3;\n",
    "}"
   ]
  },
  {
   "cell_type": "markdown",
   "metadata": {},
   "source": [
    "> 问题：n1, n2, n3, c都是什么？"
   ]
  }
 ],
 "metadata": {
  "language_info": {
   "name": "python"
  }
 },
 "nbformat": 4,
 "nbformat_minor": 2
}
