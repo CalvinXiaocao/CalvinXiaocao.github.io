{
 "cells": [
  {
   "cell_type": "markdown",
   "metadata": {},
   "source": [
    "# Lecture 3\n",
    "practice of programming 程序设计实习\n",
    "\n",
    "2024.2.28"
   ]
  },
  {
   "cell_type": "code",
   "execution_count": 1,
   "metadata": {},
   "outputs": [],
   "source": [
    "#include <iostream>\n",
    "using namespace std;"
   ]
  },
  {
   "cell_type": "code",
   "execution_count": 5,
   "metadata": {},
   "outputs": [
    {
     "data": {
      "text/markdown": [
       "3"
      ]
     },
     "metadata": {},
     "output_type": "display_data"
    }
   ],
   "source": [
    "int a = 3;\n",
    "printf(\"%d\", a);"
   ]
  },
  {
   "cell_type": "markdown",
   "metadata": {},
   "source": [
    "## 类和对象2\n",
    "### recall\n",
    "* 类的基本表达\n",
    "* 对象的内存分配与运算符\n",
    "* 三种方式的使用\n",
    "* 引用 & 常引用\n",
    "* 类成员的访问权限\n",
    "* 函数重载\n",
    "* 构造函数\n"
   ]
  },
  {
   "cell_type": "markdown",
   "metadata": {},
   "source": [
    "练习：下面程序片段哪个没错？"
   ]
  },
  {
   "cell_type": "code",
   "execution_count": 7,
   "metadata": {},
   "outputs": [
    {
     "name": "stderr",
     "output_type": "stream",
     "text": [
      "/var/folders/gm/pwvcthxs0n7gq__hjmpcmbtm0000gn/T/tmpzztuhr45.cpp:7:6: error: non-const lvalue reference to type 'int' cannot bind to a temporary of type 'int'\n",
      "int &r = n * 5;\n",
      "     ^   ~~~~~\n",
      "1 error generated.\n",
      "\n",
      "[C++ 14 kernel] Interpreter exited with code 1. The executable cannot be executed"
     ]
    }
   ],
   "source": [
    "int n = 4;\n",
    "int &r = n * 5;"
   ]
  },
  {
   "cell_type": "code",
   "execution_count": 8,
   "metadata": {},
   "outputs": [
    {
     "name": "stderr",
     "output_type": "stream",
     "text": [
      "/var/folders/gm/pwvcthxs0n7gq__hjmpcmbtm0000gn/T/tmpnsl_zz7u.cpp:8:3: error: cannot assign to variable 'r' with const-qualified type 'const int &'\n",
      "r = 7;\n",
      "~ ^\n",
      "/var/folders/gm/pwvcthxs0n7gq__hjmpcmbtm0000gn/T/tmpnsl_zz7u.cpp:7:12: note: variable 'r' declared const here\n",
      "const int &r = n;\n",
      "~~~~~~~~~~~^~~~~\n",
      "1 error generated.\n",
      "\n",
      "[C++ 14 kernel] Interpreter exited with code 1. The executable cannot be executed"
     ]
    }
   ],
   "source": [
    "int n = 6;\n",
    "const int &r = n;\n",
    "r = 7;"
   ]
  },
  {
   "cell_type": "code",
   "execution_count": 9,
   "metadata": {},
   "outputs": [
    {
     "name": "stderr",
     "output_type": "stream",
     "text": [
      "/var/folders/gm/pwvcthxs0n7gq__hjmpcmbtm0000gn/T/tmp14z_6ak5.cpp:8:6: error: binding reference of type 'int' to value of type 'const int' drops 'const' qualifier\n",
      "int &r2 = r1;\n",
      "     ^    ~~\n",
      "1 error generated.\n",
      "\n",
      "[C++ 14 kernel] Interpreter exited with code 1. The executable cannot be executed"
     ]
    }
   ],
   "source": [
    "int n = 8;\n",
    "const int &r1 = n;\n",
    "int &r2 = r1;"
   ]
  },
  {
   "cell_type": "code",
   "execution_count": 11,
   "metadata": {},
   "outputs": [
    {
     "data": {
      "text/markdown": [
       "8"
      ]
     },
     "metadata": {},
     "output_type": "display_data"
    }
   ],
   "source": [
    "int n = 8;\n",
    "int &r1 = n;\n",
    "const int r2 = r1;\n",
    "printf(\"%d\", r2);"
   ]
  },
  {
   "cell_type": "markdown",
   "metadata": {},
   "source": [
    "下面程序的输出结果是什么？"
   ]
  },
  {
   "cell_type": "code",
   "execution_count": 12,
   "metadata": {},
   "outputs": [
    {
     "data": {
      "text/markdown": [
       "7\n",
       "\n"
      ]
     },
     "metadata": {},
     "output_type": "display_data"
    }
   ],
   "source": [
    "int a =  1, b = 2;\n",
    "int & r = a;\n",
    "r = b;\n",
    "r = 7;\n",
    "std::cout << a << std::endl;"
   ]
  },
  {
   "cell_type": "markdown",
   "metadata": {},
   "source": [
    "Question: 常量指针和指针常量？"
   ]
  },
  {
   "cell_type": "markdown",
   "metadata": {},
   "source": [
    "### 构造函数在数组中的应用"
   ]
  },
  {
   "cell_type": "code",
   "execution_count": 14,
   "metadata": {},
   "outputs": [
    {
     "data": {
      "text/markdown": [
       "1 2 3 \n",
       "\n",
       "Mystery?\n",
       "\n",
       "1 1 3 "
      ]
     },
     "metadata": {},
     "output_type": "display_data"
    }
   ],
   "source": [
    "class Test{\n",
    "    public:\n",
    "        Test(int n){\n",
    "            std::cout<<\"1 \";\n",
    "        }\n",
    "        Test(int n, int m){\n",
    "            std::cout<<\"2 \";\n",
    "        }\n",
    "        Test(){\n",
    "            std::cout<<\"3 \";\n",
    "        }\n",
    "\n",
    "};\n",
    "\n",
    "int main(){\n",
    "    Test array1[3] = {1, Test(1,2)};\n",
    "    std::cout<<std::endl<<\"Mystery?\"<<std::endl;\n",
    "    Test mystery[3] = {1, (1, 2)};\n",
    "}"
   ]
  },
  {
   "cell_type": "code",
   "execution_count": 15,
   "metadata": {},
   "outputs": [
    {
     "data": {
      "text/markdown": [
       "2\n",
       "\n"
      ]
     },
     "metadata": {},
     "output_type": "display_data"
    }
   ],
   "source": [
    "std::cout<<(1, 2)<<std::endl; //（1，2）是圆括号表达式"
   ]
  },
  {
   "cell_type": "markdown",
   "metadata": {},
   "source": [
    "### 复制构造函数\n",
    "只有一个参数，对同类对象的引用\n",
    "\n",
    "形如 X::X(X&) 或者 X::X(const X&) 二者选一\n",
    "\n",
    "如果没有定义复制构造函数，则编译器自动生成"
   ]
  },
  {
   "cell_type": "code",
   "execution_count": 16,
   "metadata": {},
   "outputs": [],
   "source": [
    "class Complex{\n",
    "    private:\n",
    "        double real, imag;\n",
    "};\n",
    "\n",
    "int main(){\n",
    "    Complex c1;\n",
    "    Complex c2(c1); // 调用缺省的复制构造函数，将c2初始化成和c1一样\n",
    "}"
   ]
  },
  {
   "cell_type": "markdown",
   "metadata": {},
   "source": [
    "如果自己定义复制构造函数，则缺省的复制构造函数不存在"
   ]
  },
  {
   "cell_type": "markdown",
   "metadata": {},
   "source": [
    "#### 复制构造函数的调用：\n",
    "a. 用一个对象初始化同类的另一个对象"
   ]
  },
  {
   "cell_type": "code",
   "execution_count": 19,
   "metadata": {},
   "outputs": [
    {
     "data": {
      "text/markdown": [
       "a: 1 \n",
       "\n",
       "b: 2 \n",
       "\n",
       "c: 1 \n",
       "\n"
      ]
     },
     "metadata": {},
     "output_type": "display_data"
    }
   ],
   "source": [
    "class Test{\n",
    "    public:\n",
    "        Test(){\n",
    "            std::cout<<\"1 \"<<std::endl;\n",
    "        }\n",
    "        Test(Test & t){\n",
    "            std::cout<<\"2 \"<<std::endl;\n",
    "        }\n",
    "\n",
    "};\n",
    "\n",
    "int main(){\n",
    "    std::cout<<\"a: \";\n",
    "    Test a;\n",
    "    std::cout<<\"b: \";\n",
    "    Test b = a;\n",
    "    std::cout<<\"c: \";\n",
    "    Test c;\n",
    "    c = a;\n",
    "}"
   ]
  },
  {
   "cell_type": "markdown",
   "metadata": {},
   "source": [
    "b. 如果某函数有一个参数是类A的对象，那么该函数被调用时类A的复制构造函数将被调用\n",
    "\n",
    "c. 如果函数的返回值是类A的对象时，函数返回时A的复制构造函数会被调用\n",
    "\n",
    "*注：经过优化的编译器可能导致结果不同*"
   ]
  },
  {
   "cell_type": "markdown",
   "metadata": {},
   "source": [
    "**注！对象之间用等号赋值不会导致复制构造函数函数被调用！！**"
   ]
  },
  {
   "cell_type": "code",
   "execution_count": 23,
   "metadata": {},
   "outputs": [
    {
     "data": {
      "text/markdown": [
       "5\n",
       "\n",
       "10"
      ]
     },
     "metadata": {},
     "output_type": "display_data"
    }
   ],
   "source": [
    "class CMyclass{\n",
    "    public:\n",
    "        int n;\n",
    "        CMyclass(){};\n",
    "        CMyclass(CMyclass & c){n = 2 * c.n;};\n",
    "};\n",
    "\n",
    "int main(){\n",
    "    CMyclass a, b;\n",
    "    a.n = 5;\n",
    "    b = a;\n",
    "    std::cout<<b.n<<std::endl;\n",
    "    CMyclass c = a;\n",
    "    std::cout<<c.n;\n",
    "}"
   ]
  },
  {
   "cell_type": "markdown",
   "metadata": {},
   "source": [
    "要考虑使用引用/常引用作为参数，会节省复制的开销！"
   ]
  },
  {
   "cell_type": "markdown",
   "metadata": {},
   "source": [
    "### 类型转换构造函数\n",
    "目的：实现类型的自动转换"
   ]
  },
  {
   "cell_type": "markdown",
   "metadata": {},
   "source": [
    "*explicit*关键字：显式类型转换构造函数"
   ]
  },
  {
   "cell_type": "markdown",
   "metadata": {},
   "source": [
    "### 析构函数\n",
    "名字与类名相同，在前面加~\n",
    "\n",
    "对象消亡时自动被调用，在对象消亡前做善后工作"
   ]
  },
  {
   "cell_type": "markdown",
   "metadata": {},
   "source": [
    "#### delete运算符\n",
    "delete运算可导致析构函数调用\n",
    "\n",
    "注：若new一个对象数组，则delete释放时应该写 delete []"
   ]
  },
  {
   "cell_type": "code",
   "execution_count": 25,
   "metadata": {},
   "outputs": [
    {
     "data": {
      "text/markdown": [
       "destructor\n",
       "\n",
       "destructor\n",
       "\n",
       "destructor\n",
       "\n"
      ]
     },
     "metadata": {},
     "output_type": "display_data"
    }
   ],
   "source": [
    "using namespace std;\n",
    "class CMyclass {\n",
    "    public:\n",
    "        ~CMyclass() { cout << \"destructor\" << endl; } \n",
    "};\n",
    "\n",
    "CMyclass obj;\n",
    "CMyclass fun(CMyclass sobj ) { //参数对象消亡也会导致\n",
    "                                //析构函数被调用 \n",
    "    return sobj; //函数调用返回时生成临时对象返回\n",
    "}\n",
    "int main(){\n",
    "    obj = fun(obj); //函数调用的返回值 (临时对象) 被用过后,\n",
    "    return 0;  // 该临时对象析构函数也被调用\n",
    "}"
   ]
  },
  {
   "cell_type": "code",
   "execution_count": 27,
   "metadata": {},
   "outputs": [
    {
     "data": {
      "text/markdown": [
       "id=1, Construct\n",
       "\n"
      ]
     },
     "metadata": {},
     "output_type": "display_data"
    },
    {
     "data": {
      "text/markdown": [
       "id=4, Construct\n",
       "\n",
       "main\n",
       "\n",
       "id=5, Construct\n",
       "\n",
       "id=5, Destruct\n",
       "\n",
       "id=2, Construct\n",
       "\n",
       "id=3, Construct\n",
       "\n",
       "fun \n",
       "\n",
       "id=3, Destruct\n",
       "\n",
       "endmain\n",
       "\n",
       "id=4, Destruct\n",
       "\n",
       "id=2, Destruct\n",
       "\n",
       "id=1, Destruct\n",
       "\n"
      ]
     },
     "metadata": {},
     "output_type": "display_data"
    }
   ],
   "source": [
    "// a new demo.\n",
    "class Demo {\n",
    "    int id;\n",
    "    public: \n",
    "        Demo(int i) {\n",
    "            id = i;\n",
    "            printf( \"id=%d, Construct\\n\", id); \n",
    "        }\n",
    "        ~Demo() {\n",
    "            printf( \"id=%d, Destruct\\n\", id);\n",
    "        }\n",
    "};\n",
    "\n",
    "Demo d1(1);\n",
    "void fun(){\n",
    "    static Demo d2(2);\n",
    "    Demo d3(3);\n",
    "    printf(\"fun \\n\");\n",
    "}\n",
    "\n",
    "int main(){\n",
    "    Demo d4(4);\n",
    "    printf(\"main\\n\");\n",
    "    {Demo d5(5);}\n",
    "    fun();\n",
    "    printf(\"endmain\\n\");\n",
    "    return 0;\n",
    "}\n",
    "\n",
    "// WWCD? (What Would C++ Display?)"
   ]
  },
  {
   "cell_type": "markdown",
   "metadata": {},
   "source": [
    "### 内联函数\n",
    "函数调用本身有时间开销\n",
    "\n",
    "定义函数时，在返回值类型前面加上inline关键字，使函数成为内连函数"
   ]
  },
  {
   "cell_type": "markdown",
   "metadata": {},
   "source": [
    "### 成员函数的重载和缺省\n",
    "任何有定义的表达式都可以成为函数参数的默认值\n",
    "\n",
    "*注：函数参数的默认值只能是最右面连续的几个！*\n",
    "\n",
    "成员函数也可以重载\n",
    "\n",
    "使用缺省参数时要避免函数参数具有**二义性**！！！"
   ]
  },
  {
   "cell_type": "markdown",
   "metadata": {},
   "source": [
    "### this指针\n",
    "指向成员函数作用的对象\n",
    "\n",
    "非静态成员函数可以直接使用this代表指向该函数作用对象的指针"
   ]
  }
 ],
 "metadata": {
  "kernelspec": {
   "display_name": "C++ 14",
   "language": "cpp",
   "name": "cpp14"
  },
  "language_info": {
   "file_extension": ".cpp",
   "mimetype": "text/markdown",
   "name": "cpp"
  }
 },
 "nbformat": 4,
 "nbformat_minor": 2
}
