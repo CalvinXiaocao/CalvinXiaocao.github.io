{
 "cells": [
  {
   "cell_type": "markdown",
   "metadata": {},
   "source": [
    "# Lecture 4\n",
    "practice of programming 程序设计实习\n",
    "\n",
    "2024.3.6"
   ]
  },
  {
   "cell_type": "markdown",
   "metadata": {},
   "source": [
    "## 类和对象"
   ]
  },
  {
   "cell_type": "markdown",
   "metadata": {},
   "source": [
    "### review: 构造函数、复制构造函数、析构函数\n",
    "复制构造函数的调用：\n",
    "* 当用一个对象初始化同类的另一个对象（非赋值！！）\n",
    "* 函数的参数/返回值是A的对象\n"
   ]
  },
  {
   "cell_type": "markdown",
   "metadata": {},
   "source": [
    "`课前小测`"
   ]
  },
  {
   "cell_type": "code",
   "execution_count": 7,
   "metadata": {
    "vscode": {
     "languageId": "cpp"
    }
   },
   "outputs": [],
   "source": [
    "class A{\n",
    "    public:\n",
    "        int v;\n",
    "    public:\n",
    "        A(int n){\n",
    "            v = n;\n",
    "        }\n",
    "};\n",
    "\n",
    "int main(){\n",
    "    A a1 = A(3);\n",
    "}"
   ]
  },
  {
   "cell_type": "markdown",
   "metadata": {},
   "source": [
    "(no problem.)"
   ]
  },
  {
   "cell_type": "code",
   "execution_count": 8,
   "metadata": {
    "vscode": {
     "languageId": "cpp"
    }
   },
   "outputs": [
    {
     "name": "stderr",
     "output_type": "stream",
     "text": [
      "/var/folders/gm/pwvcthxs0n7gq__hjmpcmbtm0000gn/T/tmpwbegyuim.cpp:13:12: error: no matching constructor for initialization of 'A'\n",
      "    A a2 = A();\n",
      "           ^\n",
      "/var/folders/gm/pwvcthxs0n7gq__hjmpcmbtm0000gn/T/tmpwbegyuim.cpp:7:9: note: candidate constructor not viable: requires single argument 'n', but no arguments were provided\n",
      "        A(int n){\n",
      "        ^\n",
      "/var/folders/gm/pwvcthxs0n7gq__hjmpcmbtm0000gn/T/tmpwbegyuim.cpp:3:7: note: candidate constructor (the implicit copy constructor) not viable: requires 1 argument, but 0 were provided\n",
      "class A{\n",
      "      ^\n",
      "/var/folders/gm/pwvcthxs0n7gq__hjmpcmbtm0000gn/T/tmpwbegyuim.cpp:3:7: note: candidate constructor (the implicit move constructor) not viable: requires 1 argument, but 0 were provided\n",
      "1 error generated.\n",
      "\n",
      "[C++ 14 kernel] Interpreter exited with code 1. The executable cannot be executed"
     ]
    }
   ],
   "source": [
    "class A{\n",
    "    public:\n",
    "        int v;\n",
    "    public:\n",
    "        A(int n){\n",
    "            v = n;\n",
    "        }\n",
    "};\n",
    "\n",
    "int main(){\n",
    "    A a2 = A();\n",
    "}"
   ]
  },
  {
   "cell_type": "code",
   "execution_count": 9,
   "metadata": {
    "vscode": {
     "languageId": "cpp"
    }
   },
   "outputs": [],
   "source": [
    "class A{\n",
    "    public:\n",
    "        int v;\n",
    "    public:\n",
    "        A(int n){\n",
    "            v = n;\n",
    "        }\n",
    "};\n",
    "\n",
    "int main(){\n",
    "    A* a3 = new A(3);\n",
    "}"
   ]
  },
  {
   "cell_type": "markdown",
   "metadata": {},
   "source": [
    "(no problem.)"
   ]
  },
  {
   "cell_type": "code",
   "execution_count": 10,
   "metadata": {
    "vscode": {
     "languageId": "cpp"
    }
   },
   "outputs": [
    {
     "name": "stderr",
     "output_type": "stream",
     "text": [
      "/var/folders/gm/pwvcthxs0n7gq__hjmpcmbtm0000gn/T/tmpikpsqg1t.cpp:13:17: error: no matching constructor for initialization of 'A'\n",
      "    A* a4 = new A();\n",
      "                ^\n",
      "/var/folders/gm/pwvcthxs0n7gq__hjmpcmbtm0000gn/T/tmpikpsqg1t.cpp:7:9: note: candidate constructor not viable: requires single argument 'n', but no arguments were provided\n",
      "        A(int n){\n",
      "        ^\n",
      "/var/folders/gm/pwvcthxs0n7gq__hjmpcmbtm0000gn/T/tmpikpsqg1t.cpp:3:7: note: candidate constructor (the implicit copy constructor) not viable: requires 1 argument, but 0 were provided\n",
      "class A{\n",
      "      ^\n",
      "/var/folders/gm/pwvcthxs0n7gq__hjmpcmbtm0000gn/T/tmpikpsqg1t.cpp:3:7: note: candidate constructor (the implicit move constructor) not viable: requires 1 argument, but 0 were provided\n",
      "1 error generated.\n",
      "\n",
      "[C++ 14 kernel] Interpreter exited with code 1. The executable cannot be executed"
     ]
    }
   ],
   "source": [
    "class A{\n",
    "    public:\n",
    "        int v;\n",
    "    public:\n",
    "        A(int n){\n",
    "            v = n;\n",
    "        }\n",
    "};\n",
    "\n",
    "int main(){\n",
    "    A* a4 = new A();\n",
    "}"
   ]
  },
  {
   "cell_type": "markdown",
   "metadata": {},
   "source": [
    "### this 指针\n",
    "`this`"
   ]
  },
  {
   "cell_type": "markdown",
   "metadata": {},
   "source": [
    "非静态成员函数中可以直接使用this来代表指向该函数作用的对象的指针"
   ]
  },
  {
   "cell_type": "code",
   "execution_count": 12,
   "metadata": {
    "vscode": {
     "languageId": "cpp"
    }
   },
   "outputs": [
    {
     "data": {
      "text/markdown": [
       "2, 1"
      ]
     },
     "metadata": {},
     "output_type": "display_data"
    }
   ],
   "source": [
    "#include<iostream>\n",
    "using namespace std;\n",
    "\n",
    "class Complex{\n",
    "    public:\n",
    "        double real, imag;\n",
    "        void Print(){\n",
    "            cout << real << \", \" << imag;\n",
    "        }\n",
    "        Complex(double r, double i): real(r), imag(i){}\n",
    "        Complex AddOne(){\n",
    "            this->real++;\n",
    "            this->Print();\n",
    "            return * this;\n",
    "        }\n",
    "};\n",
    "\n",
    "int main(){\n",
    "    Complex c1(1, 1), c2(0, 0);\n",
    "    c2 = c1.AddOne();\n",
    "    return 0;\n",
    "}"
   ]
  },
  {
   "cell_type": "code",
   "execution_count": 13,
   "metadata": {
    "vscode": {
     "languageId": "cpp"
    }
   },
   "outputs": [
    {
     "data": {
      "text/markdown": [
       "Hello\n",
       "\n"
      ]
     },
     "metadata": {},
     "output_type": "display_data"
    }
   ],
   "source": [
    "#include<iostream>\n",
    "using namespace std;\n",
    "class A{\n",
    "    int i;\n",
    "    public:\n",
    "        void Hello(){cout<<\"Hello\"<<endl;}\n",
    "};\n",
    "\n",
    "int main(){\n",
    "    A *p = nullptr;\n",
    "    p -> Hello();\n",
    "}"
   ]
  },
  {
   "cell_type": "code",
   "execution_count": 14,
   "metadata": {
    "vscode": {
     "languageId": "cpp"
    }
   },
   "outputs": [
    {
     "name": "stderr",
     "output_type": "stream",
     "text": [
      "\n",
      "[C++ 14 Error] Executable exited with code -11"
     ]
    }
   ],
   "source": [
    "#include<iostream>\n",
    "using namespace std;\n",
    "class A{\n",
    "    int i;\n",
    "    public:\n",
    "        void Hello(){cout<<i<<\"Hello\"<<endl;}\n",
    "};\n",
    "\n",
    "int main(){\n",
    "    A *p = nullptr;\n",
    "    p -> Hello();\n",
    "}"
   ]
  },
  {
   "cell_type": "markdown",
   "metadata": {},
   "source": [
    "### 静态成员变量\n",
    "`static`\n",
    "\n",
    "静态成员：在变量前加**static**关键字，一共就一份，为所有对象共享\n",
    "\n",
    "sizeof不会计算静态成员变量的大小\n",
    "\n",
    "静态成员函数不会具体作用于某个对象，不需要通过对象就能访问"
   ]
  },
  {
   "cell_type": "code",
   "execution_count": null,
   "metadata": {
    "vscode": {
     "languageId": "cpp"
    }
   },
   "outputs": [],
   "source": [
    "CRectangle::PrintTotal()"
   ]
  },
  {
   "cell_type": "markdown",
   "metadata": {},
   "source": [
    "本质上是全局变量、全局函数\n",
    "\n",
    "目的：将某些类紧密相关的全局变量和函数写到类里面\n",
    "\n",
    "> 注意：必须在定义类定义的外面专门对静态成员变量进行声明（也可以在同行初始化；否则编译能通过，链接不能通过）"
   ]
  },
  {
   "cell_type": "code",
   "execution_count": null,
   "metadata": {
    "vscode": {
     "languageId": "cpp"
    }
   },
   "outputs": [],
   "source": [
    "int CRectangle::nTotalNumber = 0;"
   ]
  },
  {
   "cell_type": "markdown",
   "metadata": {},
   "source": [
    "### 常量成员函数\n",
    "`const`\n",
    "\n",
    "具有只读的功能"
   ]
  },
  {
   "cell_type": "code",
   "execution_count": null,
   "metadata": {
    "vscode": {
     "languageId": "cpp"
    }
   },
   "outputs": [],
   "source": [
    "void GetValue() const;"
   ]
  },
  {
   "cell_type": "markdown",
   "metadata": {},
   "source": [
    "常量成员函数内部不能改非静态属性的值，也不能调用同类的非常量成员函数"
   ]
  },
  {
   "cell_type": "markdown",
   "metadata": {},
   "source": [
    "### 成员对象\n",
    "一个类的成员变量是另一个类的成员\n",
    "\n",
    "使用**成员初始化列表**\n",
    "\n",
    "execute order：先执行所有成员对象的构造函数，然后再执行封闭类的构造函数"
   ]
  }
 ],
 "metadata": {
  "kernelspec": {
   "display_name": "C++ 14",
   "language": "cpp",
   "name": "cpp14"
  },
  "language_info": {
   "file_extension": ".cpp",
   "mimetype": "text/markdown",
   "name": "text/markdown"
  }
 },
 "nbformat": 4,
 "nbformat_minor": 2
}
