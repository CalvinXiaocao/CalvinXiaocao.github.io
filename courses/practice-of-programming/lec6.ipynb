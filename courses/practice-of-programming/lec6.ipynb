{
 "cells": [
  {
   "cell_type": "markdown",
   "metadata": {},
   "source": [
    "# Lecture 6\n",
    "practice of programming 程序设计实习\n",
    "\n",
    "2024.3.13"
   ]
  },
  {
   "cell_type": "markdown",
   "metadata": {},
   "source": [
    "## 继承\n",
    "定义一个新的类B时，如果该类 ***拥有A的全部特点*** ，\n",
    "\n",
    "那么A——基类，B——基类的派生类（子类）"
   ]
  },
  {
   "cell_type": "code",
   "execution_count": null,
   "metadata": {
    "vscode": {
     "languageId": "cpp"
    }
   },
   "outputs": [],
   "source": [
    "class name : _派生方式说明符_ JiLei{\n",
    "    ...\n",
    "}"
   ]
  },
  {
   "cell_type": "markdown",
   "metadata": {},
   "source": [
    "防止重复，概括共同的特点"
   ]
  },
  {
   "cell_type": "code",
   "execution_count": null,
   "metadata": {
    "vscode": {
     "languageId": "cpp"
    }
   },
   "outputs": [],
   "source": [
    "class CStudent{\n",
    "    private:\n",
    "        string sName;\n",
    "        int nAge;\n",
    "    public:\n",
    "        bool IsThreeGood(){}\n",
    "        void SetName(const string & name){\n",
    "            sName = name;\n",
    "        }\n",
    "}\n",
    "\n",
    "class CUndergraduateStudent: public CStudent{\n",
    "    private:\n",
    "        int nDepartment;\n",
    "    public:\n",
    "        bool IsThreeGood(){...} // 覆盖基类\n",
    "        bool CanBaoYan(){...}\n",
    "}"
   ]
  },
  {
   "cell_type": "markdown",
   "metadata": {},
   "source": [
    "### 派生类对象的内存空间\n",
    "基类+派生类自己成员变量的大小"
   ]
  },
  {
   "cell_type": "markdown",
   "metadata": {},
   "source": [
    "``\n",
    "注意！！！！！\n",
    "继承：is-关系\n",
    "复合：has-关系\n",
    "不能混淆！！\n",
    "``"
   ]
  },
  {
   "cell_type": "markdown",
   "metadata": {},
   "source": [
    "### 复合关系\n",
    "一个“圆”里面包含一个“点”的对象，两者的关系就是复合关系\n",
    "\n",
    "避免循环定义：拿指针作为对象"
   ]
  },
  {
   "cell_type": "markdown",
   "metadata": {},
   "source": [
    "### 覆盖\n",
    "派生类可以定义一个和基类成员同名的成员，叫做***覆盖***"
   ]
  },
  {
   "cell_type": "markdown",
   "metadata": {},
   "source": [
    "### protected\n",
    "派生类的成员函数可以访问基类的protected成员\n",
    "\n",
    "### 三种继承方式：public、private、protected\n",
    "public：照搬\n",
    "\n",
    "private：把基类的公有、保护成员都作为派生类的私有成员\n",
    "\n",
    "protected：把基类的公有、保护成员都作为派生类的protected"
   ]
  },
  {
   "cell_type": "markdown",
   "metadata": {},
   "source": [
    "### 派生类的构造函数"
   ]
  },
  {
   "cell_type": "code",
   "execution_count": null,
   "metadata": {
    "vscode": {
     "languageId": "cpp"
    }
   },
   "outputs": [],
   "source": [
    "// in Class Bug, assume legs and color are PRIVATE\n",
    "\n",
    "Bug::Bug(int legs, int color){\n",
    "    nLegs = legs;\n",
    "    nColor = color;\n",
    "}\n",
    "\n",
    "// BUGGY FlyBug Constructor\n",
    "FlyBug::FlyBug(int legs, int color, int wings){\n",
    "    nLegs = legs; // BUG!!!\n",
    "    nColor = color; // STILL BUG!!!\n",
    "    nWings = wings; // OK\n",
    "}\n",
    "\n",
    "// correct FlyBug Constructor\n",
    "FlyBug::FlyBug(int legs, int color, int wings): Bug(legs, color){\n",
    "    nWings = wings // OK\n",
    "}"
   ]
  },
  {
   "cell_type": "markdown",
   "metadata": {},
   "source": [
    "#### 调用基类的构造函数\n",
    "显式：放到参数表 / 隐式：调用默认构造函数\n",
    "\n",
    "先执行基类构造函数，再调用成员对象类构造函数，最后执行派生类构造函数\n",
    "\n",
    "析构函数顺序反之。"
   ]
  },
  {
   "cell_type": "markdown",
   "metadata": {},
   "source": [
    "### public继承的赋值兼容原则\n",
    "派生类对象可以赋给基类对象\n",
    "\n",
    "派生类对象可以初始化基类引用\n",
    "\n",
    "派生类对象的地址可以赋值给基类指针\n",
    "\n",
    "但是！赋值的时候多余的部分被cut掉了"
   ]
  },
  {
   "cell_type": "markdown",
   "metadata": {},
   "source": [
    "### 直接基类和间接基类\n",
    "声明类时，派生类的首部只需列出其直接基类\n",
    "\n",
    "### 多继承\n",
    "（考试不要求）\n",
    "\n",
    "多继承要防止二义性！"
   ]
  }
 ],
 "metadata": {
  "language_info": {
   "name": "python"
  }
 },
 "nbformat": 4,
 "nbformat_minor": 2
}
