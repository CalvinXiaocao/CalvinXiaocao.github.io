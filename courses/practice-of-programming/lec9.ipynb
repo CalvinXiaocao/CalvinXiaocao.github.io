{
 "cells": [
  {
   "cell_type": "markdown",
   "metadata": {},
   "source": [
    "# Lecture 9\n",
    "practice of programming 程序设计实习\n",
    "\n",
    "2024.3.27"
   ]
  },
  {
   "cell_type": "markdown",
   "metadata": {},
   "source": [
    "## 泛型程序设计 Generic Programming\n",
    "泛型——算法实现一遍——适用于多种数据结构\n",
    "\n",
    "优势：减少重复代码的编写\n",
    "\n",
    "两种不同的方式\n",
    "* 函数模版\n",
    "* 类模版"
   ]
  },
  {
   "cell_type": "markdown",
   "metadata": {},
   "source": [
    "### 函数模版（回顾）"
   ]
  },
  {
   "cell_type": "code",
   "execution_count": null,
   "metadata": {},
   "outputs": [],
   "source": [
    "template <class Type1, class Type2, ...>\n",
    "<TYPE> functionName(args) {\n",
    "    // BODY\n",
    "}"
   ]
  },
  {
   "cell_type": "markdown",
   "metadata": {},
   "source": [
    "### 类模版\n",
    "#### 基本概念\n",
    "为了定义出一批相似的类，定义类模版，其中除了元素的类型不同之外，其他的完全相同"
   ]
  },
  {
   "cell_type": "code",
   "execution_count": null,
   "metadata": {},
   "outputs": [],
   "source": [
    "/**\n",
    " * ADAPTED FROM: project WARRIOR\n",
    " * \n",
    " * Basic Class AList that could hold at most 50 items.\n",
    " *\n",
    " * NOTE: Attempt to write the AList data structure on my own.\n",
    " * This part is inspired by CS 61B project 1.\n",
    " */\n",
    "template <class T>\n",
    "class AList\n",
    "{\n",
    "private:\n",
    "    T *items[51];\n",
    "    int start;\n",
    "    int stop;\n",
    "    int length;\n",
    "\n",
    "public:\n",
    "    AList();\n",
    "    void addFirst(T *);\n",
    "    void addLast(T *);\n",
    "    int size();\n",
    "    bool isEmpty();\n",
    "    T *removeFirst();\n",
    "    T *removeLast();\n",
    "    T *get(int);\n",
    "    T *getFirst();\n",
    "    T *getLast();\n",
    "};"
   ]
  },
  {
   "cell_type": "code",
   "execution_count": 2,
   "metadata": {},
   "outputs": [
    {
     "data": {
      "text/markdown": [
       "Tom 19\n",
       "\n"
      ]
     },
     "metadata": {},
     "output_type": "display_data"
    }
   ],
   "source": [
    "#include <iostream>\n",
    "#include <string>\n",
    "#include <cstring>\n",
    "using namespace std;\n",
    "\n",
    "template<class T1, class T2>\n",
    "class Pair\n",
    "{\n",
    "    public:\n",
    "        T1 key;\n",
    "        T2 value;\n",
    "        Pair(T1 k, T2 v): key(k), value(v) { }\n",
    "        bool operator<(const Pair<T1, T2> & p) const;\n",
    "};\n",
    "\n",
    "template<class T1, class T2>\n",
    "bool Pair<T1, T2>::operator<(const Pair<T1, T2> & p) const {\n",
    "    return key < p.key;\n",
    "}\n",
    "\n",
    "int main() {\n",
    "    Pair<string, int> student(\"Tom\", 19);\n",
    "    cout << student.key << ' ' << student.value << endl;\n",
    "    return 0;\n",
    "}"
   ]
  },
  {
   "cell_type": "markdown",
   "metadata": {},
   "source": [
    "类模版是公共的"
   ]
  },
  {
   "cell_type": "markdown",
   "metadata": {},
   "source": [
    "#### 类模版与非类型参数\n",
    "类模版的类型参数表中可以出现非类型参数。\n",
    "\n",
    "上面的AList可以给它定义一个size！"
   ]
  },
  {
   "cell_type": "markdown",
   "metadata": {},
   "source": [
    "#### 乱七八糟的继承\n",
    "* 类模版从类模版派生\n",
    "  + 从Alist派生出AlistWithMethods\n",
    "* 类模版从模版类中派生\n",
    "  + 某个新的数据结构Datatype，从Alist\\<int\\>中派生\n",
    "* 类模版从普通类中派生\n",
    "  + 从某个固定的类中提出来，添加点其他generic的东西\n",
    "* 普通类从模版类中派生\n",
    "  + class Citylist: public Alist\\<City\\>"
   ]
  },
  {
   "cell_type": "markdown",
   "metadata": {},
   "source": [
    "#### 乱七八糟的友元\n",
    "* 函数/类/类的成员函数作为类模版的友元\n",
    "* 函数模版作为类模版的友元\n",
    "* 函数模版作为类的友元\n",
    "* 类模版作为函数的友元"
   ]
  },
  {
   "cell_type": "markdown",
   "metadata": {},
   "source": [
    "#### 类模版和static成员的关系\n",
    "类模版实例化得到的模版类所有对象都包含同样的静态成员\n",
    "\n",
    "不同的模版类不能共享成员变量"
   ]
  },
  {
   "cell_type": "markdown",
   "metadata": {},
   "source": [
    "## String类"
   ]
  },
  {
   "cell_type": "code",
   "execution_count": null,
   "metadata": {},
   "outputs": [],
   "source": [
    "typedef basic_string<char> string;"
   ]
  },
  {
   "cell_type": "markdown",
   "metadata": {},
   "source": [
    "使用时包含头文件"
   ]
  },
  {
   "cell_type": "code",
   "execution_count": null,
   "metadata": {},
   "outputs": [],
   "source": [
    "#include <string>"
   ]
  },
  {
   "cell_type": "markdown",
   "metadata": {},
   "source": [
    "string对象的初始化"
   ]
  },
  {
   "cell_type": "code",
   "execution_count": 25,
   "metadata": {},
   "outputs": [
    {
     "data": {
      "text/markdown": [
       "hahaha\n",
       "\n",
       "xxxxxxxx\n",
       "\n",
       "March\n",
       "\n",
       "5\n",
       "\n",
       "------\n",
       "\n",
       "cat\n",
       "\n",
       "aha\n",
       "\n",
       "h\n",
       "\n",
       "a\n",
       "\n",
       "ahahahaha\n",
       "\n",
       "ahahahahahaha\n",
       "\n",
       "----\n",
       "\n"
      ]
     },
     "metadata": {},
     "output_type": "display_data"
    },
    {
     "data": {
      "text/markdown": [
       "0\n",
       "\n",
       "-16\n",
       "\n",
       "-1\n",
       "\n",
       "----\n",
       "\n",
       "ahaha\n",
       "\n",
       "hahaha\n",
       "\n",
       "ahahahahahaha\n",
       "\n",
       "ahjiuminghahahaha\n",
       "\n"
      ]
     },
     "metadata": {},
     "output_type": "display_data"
    }
   ],
   "source": [
    "#include <string>\n",
    "#include <iostream>\n",
    "using namespace std;\n",
    "int main() {\n",
    "    string s1(\"hahaha\");\n",
    "    cout << s1 << endl;\n",
    "    string s2(8, 'x');\n",
    "    cout << s2 << endl;\n",
    "    string month = \"March\";\n",
    "    cout << month << endl;\n",
    "    cout << month.length() << endl \n",
    "         << \"------\" << endl;\n",
    "\n",
    "    // string支持流运算符\n",
    "    // string支持=\n",
    "    string t1(\"cat\"), t2, t3;\n",
    "    t2 = t1;\n",
    "    cout << t2 << endl;\n",
    "    t3.assign(s1, 1, 3);\n",
    "    cout << t3 << endl;\n",
    "    cout << t3[1] << endl;\n",
    "    cout << t3.at(0) << endl;\n",
    "    t3 = t3 + s1;\n",
    "    cout << t3 << endl;\n",
    "    t3.append(s1, 2, s1.size());\n",
    "    cout << t3 << endl;\n",
    "    cout << \"----\" << endl;\n",
    "\n",
    "    cout << s1.compare(s1) << endl;\n",
    "    cout << s1.compare(s2) << endl;\n",
    "    cout << s1.compare(1,2,t3,2,3) << endl;\n",
    "    cout << \"----\" << endl;\n",
    "\n",
    "    cout << s1.substr(1,5) << endl;\n",
    "    s1.swap(t3);\n",
    "    cout << t3 << endl;\n",
    "    cout << s1 << endl;\n",
    "    s1.replace(2,3, \"jiuming\");\n",
    "    cout << s1 << endl;\n",
    "}"
   ]
  },
  {
   "cell_type": "markdown",
   "metadata": {},
   "source": [
    "转换成C字符串：c_str或者copy"
   ]
  },
  {
   "cell_type": "code",
   "execution_count": null,
   "metadata": {},
   "outputs": [],
   "source": []
  }
 ],
 "metadata": {
  "kernelspec": {
   "display_name": "C++ 14",
   "language": "cpp",
   "name": "cpp14"
  },
  "language_info": {
   "file_extension": ".cpp",
   "mimetype": "text/markdown",
   "name": "cpp"
  }
 },
 "nbformat": 4,
 "nbformat_minor": 2
}
