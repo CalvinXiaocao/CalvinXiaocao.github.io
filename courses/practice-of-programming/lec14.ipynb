{
 "cells": [
  {
   "cell_type": "markdown",
   "metadata": {},
   "source": [
    "# Lecture 14\n",
    "practice of programming 程序设计实习\n",
    "\n",
    "2024.4.19"
   ]
  },
  {
   "cell_type": "markdown",
   "metadata": {},
   "source": [
    "## C++11\n",
    "### 右值引用\n",
    "右值：不能取地址的表达式，例如：\n",
    "```c++\n",
    "A & r = A() \\\\ Error!\n",
    "A && r = A() \\\\ 右值引用\n",
    "```"
   ]
  },
  {
   "cell_type": "markdown",
   "metadata": {},
   "source": [
    "目的：减少复制构造函数的调用次数"
   ]
  },
  {
   "cell_type": "markdown",
   "metadata": {},
   "source": [
    "## C++高阶\n",
    "### 类型转换\n",
    "```c++\n",
    "(expression)\n",
    "new_type (expression)\n",
    "(new_type) expression\n",
    "```"
   ]
  },
  {
   "cell_type": "markdown",
   "metadata": {},
   "source": [
    "传统的转换可能会存在问题！野指针/截断\n",
    "\n",
    "### cast运算符\n",
    "* static_cast\n",
    "* dynamic_cast\n",
    "* reinterpret_cast\n",
    "* const_cast"
   ]
  },
  {
   "cell_type": "code",
   "execution_count": null,
   "metadata": {
    "vscode": {
     "languageId": "cpp"
    }
   },
   "outputs": [],
   "source": [
    "static_cast<int> m"
   ]
  },
  {
   "cell_type": "markdown",
   "metadata": {},
   "source": [
    "用于进行比较自然和低风险的转换（不能用于不同指针类型、引用之间的转换）"
   ]
  },
  {
   "cell_type": "code",
   "execution_count": null,
   "metadata": {
    "vscode": {
     "languageId": "cpp"
    }
   },
   "outputs": [],
   "source": [
    "reinterpret_cast<int &> (a)"
   ]
  },
  {
   "cell_type": "markdown",
   "metadata": {},
   "source": [
    "重新编译的cast"
   ]
  },
  {
   "cell_type": "code",
   "execution_count": null,
   "metadata": {
    "vscode": {
     "languageId": "cpp"
    }
   },
   "outputs": [],
   "source": [
    "const_cast<string &> (s)"
   ]
  },
  {
   "cell_type": "markdown",
   "metadata": {},
   "source": [
    "进行去除const属性的cast"
   ]
  },
  {
   "cell_type": "code",
   "execution_count": null,
   "metadata": {
    "vscode": {
     "languageId": "cpp"
    }
   },
   "outputs": [],
   "source": [
    "dynamic_cast"
   ]
  },
  {
   "cell_type": "markdown",
   "metadata": {},
   "source": [
    "用于多态的转化，若不安全会返回nullptr"
   ]
  },
  {
   "cell_type": "markdown",
   "metadata": {},
   "source": [
    "### 异常处理"
   ]
  },
  {
   "cell_type": "markdown",
   "metadata": {},
   "source": [
    "#### throw语句\n",
    "#### try-catch语句"
   ]
  },
  {
   "cell_type": "code",
   "execution_count": null,
   "metadata": {
    "vscode": {
     "languageId": "cpp"
    }
   },
   "outputs": [],
   "source": [
    "throw -1;"
   ]
  },
  {
   "cell_type": "code",
   "execution_count": null,
   "metadata": {
    "vscode": {
     "languageId": "cpp"
    }
   },
   "outputs": [],
   "source": [
    "catch (CExpection e) {\n",
    "    cout << e.msg << endl;\n",
    "}"
   ]
  }
 ],
 "metadata": {
  "language_info": {
   "name": "python"
  }
 },
 "nbformat": 4,
 "nbformat_minor": 2
}
