{
 "cells": [
  {
   "cell_type": "markdown",
   "metadata": {},
   "source": [
    "# Lecture 12\n",
    "AI Intro, Apr 15, 2024"
   ]
  },
  {
   "cell_type": "markdown",
   "metadata": {},
   "source": [
    "## Epoch\n",
    "所有训练样本都用完一次，叫做一个epoch\n",
    "\n",
    "### Full GD 全量梯度下降\n",
    "* population 所有数据\n",
    "* training: a subset of population -> empirical loss\n",
    "* principal: the distribution is the same!!\n",
    "* Full GD: use all the samples in the training set.\n",
    "\n",
    "### SGD 随机梯度下降\n",
    "choose random sample in the training set.\n",
    "\n",
    "#### mini-batch SGD 小批量提督下降\n",
    "multiple samples -> iteration\n",
    "\n",
    "> batch size is a hyperparimeter!"
   ]
  },
  {
   "cell_type": "markdown",
   "metadata": {},
   "source": [
    "## CNN 卷积神经网络\n",
    "图像分类：计算机视觉的核心任务\n",
    "\n",
    "### 卷积层 Convolution Layer\n",
    "`let the place matter!`\n",
    "将几个像素点的信息揉到一起\n",
    "\n",
    "### zero padding 补0法\n",
    "不足的位置补0\n",
    "\n",
    "### What the filter learns\n",
    "能够提取到局部的图像特征"
   ]
  },
  {
   "cell_type": "markdown",
   "metadata": {},
   "source": [
    "## RNN & transformer\n",
    "RNN: Recurrent Neural Network"
   ]
  },
  {
   "cell_type": "markdown",
   "metadata": {},
   "source": [
    "## GNN 图神经网络"
   ]
  }
 ],
 "metadata": {
  "language_info": {
   "name": "python"
  }
 },
 "nbformat": 4,
 "nbformat_minor": 2
}
