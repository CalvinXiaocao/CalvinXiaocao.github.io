{
 "cells": [
  {
   "cell_type": "markdown",
   "metadata": {},
   "source": [
    "# Lecture 15\n",
    "AI Intro, May 13, 2024"
   ]
  },
  {
   "cell_type": "markdown",
   "metadata": {},
   "source": [
    "## Review: Parsing & CYK algorithm\n",
    "CYK with probability"
   ]
  },
  {
   "cell_type": "markdown",
   "metadata": {},
   "source": [
    "### NLTK: natural language toolkit"
   ]
  },
  {
   "cell_type": "code",
   "execution_count": null,
   "metadata": {},
   "outputs": [],
   "source": [
    "import nltk"
   ]
  },
  {
   "cell_type": "markdown",
   "metadata": {},
   "source": [
    "### 自然语言的生成任务\n",
    "自然语言的依赖：长文本任务\n",
    "#### n元模型 n-gram\n",
    "* n元：长度为n的书面符号\n",
    "\n",
    "### 分词\n",
    "* Word Tokenization 将文本分割为独立的单词\n",
    "* Sentence Tokenization 太多了！！！\n",
    "* 取适中？？"
   ]
  },
  {
   "cell_type": "markdown",
   "metadata": {},
   "source": [
    "### Markov Model\n",
    "* 无后效性"
   ]
  },
  {
   "cell_type": "markdown",
   "metadata": {},
   "source": [
    "### BoW 词带模型\n",
    "不考虑文本中词与词之间的上下文关系，仅仅只考虑所有词的权重，而权重与词在文本中出现的频率有关。\n",
    "\n",
    "数据收集、字典构建、生成文本特征向量"
   ]
  },
  {
   "cell_type": "markdown",
   "metadata": {},
   "source": [
    "### Naive Bayes with Smoothing"
   ]
  },
  {
   "cell_type": "markdown",
   "metadata": {},
   "source": [
    "### tf-idf 信息检索\n",
    "* 词频 (term frequency, tf): 给定文档中某个词出现的频率\n",
    "* 逆文档频率 (inverse document frequency, idf): 衡量某个词在语料库的所有文档中的罕见程度\n",
    "* $tfidf = tf \\times idf$\n",
    "\n",
    "### Word Representation 词表示\n",
    "Q：如何将词用某些向量来表达?\n",
    "\n",
    "* 独热表示 (one-hot representation)\n",
    "* 分布式表示 (distributed representation)"
   ]
  },
  {
   "cell_type": "markdown",
   "metadata": {},
   "source": [
    "CBOW模型模型可用来训练"
   ]
  },
  {
   "cell_type": "markdown",
   "metadata": {},
   "source": [
    "### NLP Based On Neural Network\n",
    "#### RNN 递归神经语言模型: 基于前词上下文预测接下来的词\n",
    "理论可行，现实不可行！\n",
    "* 1. 不可以并行计算，训练时很慢\n",
    "* 2. 对于多步前的感知信息较少"
   ]
  },
  {
   "cell_type": "markdown",
   "metadata": {},
   "source": [
    "#### Transformer"
   ]
  }
 ],
 "metadata": {
  "language_info": {
   "name": "python"
  }
 },
 "nbformat": 4,
 "nbformat_minor": 2
}
