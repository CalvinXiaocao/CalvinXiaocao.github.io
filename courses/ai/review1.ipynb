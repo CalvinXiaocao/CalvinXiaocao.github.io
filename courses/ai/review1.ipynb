{
 "cells": [
  {
   "cell_type": "markdown",
   "metadata": {},
   "source": [
    "# AI Midterm Review"
   ]
  },
  {
   "cell_type": "markdown",
   "metadata": {},
   "source": [
    "## Lab review\n",
    "### Lab 1 Part 1\n",
    "heuristic: \n",
    "最基本的启发函数：\n",
    "* 贪心 枚举最近的食物（展开节点比较多）\n",
    "* 枚举 枚举剩余食物的访问顺序（问题？没考虑墙！）\n",
    "* 优化：考虑墙\n",
    "\n",
    "Intuition: ”只要绕过最高的墙”\n",
    "\n",
    "另一种：BFS搜食物\n",
    "\n",
    "### Lab 1 Part 2\n",
    "去年启发函数是一个难点\n",
    "\n",
    "如何设计MCTS的启发函数？\n",
    "* Intuition\n",
    "  * 发现pacman跑得过ghost-只需要ghost近的时候触发逃跑，其他时候不管ghost\n",
    "  * 通过简单的加权+考虑胜负状态\n",
    "* Problem?\n",
    "  * pacman周围几乎没有ghost时，四个方向估值差不多，会出现抖动\n",
    "\n"
   ]
  },
  {
   "cell_type": "markdown",
   "metadata": {},
   "source": [
    "## 2023考点考题风格\n",
    "1. K-NN算法的评价\n",
    "   * 优点：train-free, non-parameter\n",
    "   * 缺点：\n",
    "     * overfitting\n",
    "     * memory cost 记忆化存储\n",
    "     * dimension explode! 高纬度空间不再能通过距离衡量点的远近\n",
    "2. 概率统计（去年期中：原神抽卡+大保底）\n",
    "   * 条件概率、全概率、Bayes\n",
    "   * 极大似然估计MLE（列出prob-function，取对数然后再求导求极值）\n",
    "3. 决策树（重点！）\n",
    "   * 决策树的绘制（题型很多变！不敢保证可能会考到连续属性）\n",
    "   * 划分指数：信息增益/增益率/Gini指数\n",
    "4. 神经网络：模拟前向/反向传播\n",
    "5. 搜索：扫雷的状态空间建模和启发函数设计\n",
    "   * 不要把heuristic想复杂！\n",
    "6. Minimax & Alpha-beta prunning\n",
    "7. CV Computer Vision Hog算子\n",
    "\n",
    "> 总结\n",
    "* 概率统计是重要的！！计算繁琐\n",
    "* 对课堂知识的理解\n",
    "* 算法手动模拟（各类搜索，神经网络计算，HOG算子）\n",
    "* 问题建模（把扫雷建模成搜索问题）与算法迁移\n",
    "\n",
    "> cheatsheet建议\n",
    "* 写记不住的东西，记录公式！！\n",
    "* 算法的思想，放到脑子里，根本不需要写什么伪代码"
   ]
  },
  {
   "cell_type": "markdown",
   "metadata": {},
   "source": [
    "## 神经网络\n",
    "### 矩阵、向量、标量的求导\n",
    "### 二分类\n",
    "交叉熵损失函数\n",
    "\n",
    "复合函数的链式法则\n",
    "\n",
    "### 多分类"
   ]
  }
 ],
 "metadata": {
  "language_info": {
   "name": "python"
  }
 },
 "nbformat": 4,
 "nbformat_minor": 2
}
