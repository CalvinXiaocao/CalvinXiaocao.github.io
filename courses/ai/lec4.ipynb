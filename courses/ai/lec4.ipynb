{
 "cells": [
  {
   "cell_type": "markdown",
   "metadata": {},
   "source": [
    "# Lecture 4\n",
    "AI Intro, 22.2.2024"
   ]
  },
  {
   "cell_type": "markdown",
   "metadata": {},
   "source": [
    "## search improvement"
   ]
  },
  {
   "cell_type": "markdown",
   "metadata": {},
   "source": [
    "### DFS 深度优先搜索\n",
    "特点：扩张最深的节点\n",
    "\n",
    "实现：后进先出的stack"
   ]
  },
  {
   "cell_type": "markdown",
   "metadata": {},
   "source": [
    "### BFS 广度优先搜索\n",
    "特点：优先扩张最浅的节点\n",
    "\n",
    "实现：先进先出的queue"
   ]
  },
  {
   "cell_type": "markdown",
   "metadata": {},
   "source": [
    "### cost function??\n",
    "深搜找到的是步数最少的，但不一定是成本和代价最小的\n",
    "\n",
    "那我们在每步考虑代价？"
   ]
  },
  {
   "cell_type": "markdown",
   "metadata": {},
   "source": [
    "### UCS uniform cost search 一致代价搜索\n",
    "探索代价最小的节点\n",
    "\n",
    "实现：priority queue（先进，代价小的先出）\n",
    "\n",
    "#### 代价轮廓 lowest cost frontier\n",
    "\n",
    "#### UCS的特征\n",
    "* completeness？如果cost function是正数，那就具有完备性\n",
    "* optimal？没错！UCS是最优的\n",
    "* limit？没有使用到目标的信息\n",
    "\n",
    "#### Priority Queue\n",
    "优先队列通常依靠堆heap来实现\n",
    "\n",
    "维持一定的顺序，值最小的在头\n",
    "\n",
    "PQ的维护：将新来的节点加到leaf上，把小值换到上面，大值换到下面（打擂台赛）"
   ]
  },
  {
   "cell_type": "markdown",
   "metadata": {},
   "source": [
    "## Informed search 知情搜索"
   ]
  },
  {
   "cell_type": "markdown",
   "metadata": {},
   "source": [
    "### heuristics 启发\n",
    "estimates how 'close' a state is to the goal\n",
    "\n",
    "经典启发：Manhattan distance"
   ]
  },
  {
   "cell_type": "markdown",
   "metadata": {},
   "source": [
    "### Greedy Search 贪心搜索\n",
    "* optimal？ NO！！\n",
    "* 经常会直接带去一个可能错的目标"
   ]
  },
  {
   "cell_type": "markdown",
   "metadata": {},
   "source": [
    "### A* Search\n",
    "combining UCS and Greedy Search"
   ]
  },
  {
   "cell_type": "markdown",
   "metadata": {},
   "source": [
    "* Uniform cost orders by path cost, or backward cost g(n)\n",
    "* Greedy orders by goal proximity, or forward cost h(n)\n",
    "* A* Search orders by the sum: f(n) = g(n) + h(n)"
   ]
  },
  {
   "cell_type": "markdown",
   "metadata": {},
   "source": [
    "我们应该什么时候停止搜索？\n",
    "\n",
    "只有在**把目标移除PQ**的时候！！"
   ]
  },
  {
   "cell_type": "markdown",
   "metadata": {},
   "source": [
    "#### Is A* optimal??\n",
    "不一定！需要 Admissible Heuristics!"
   ]
  },
  {
   "cell_type": "markdown",
   "metadata": {},
   "source": [
    "#### Admissible Heuristics 可接受启发\n",
    "“拖慢不好的规划”\n",
    "\n",
    "A heuristic h is admissible (optimistic) if:\n",
    "\n",
    "$0\\leq h(n)\\leq h^*(n)$\n",
    "\n",
    "> optimal的证明(见课件)"
   ]
  },
  {
   "cell_type": "markdown",
   "metadata": {},
   "source": [
    "## Tree Search & Graph Search\n",
    "graph search：不重复考虑探索过的节点"
   ]
  }
 ],
 "metadata": {
  "kernelspec": {
   "display_name": "base",
   "language": "python",
   "name": "python3"
  },
  "language_info": {
   "codemirror_mode": {
    "name": "ipython",
    "version": 3
   },
   "file_extension": ".py",
   "mimetype": "text/x-python",
   "name": "python",
   "nbconvert_exporter": "python",
   "pygments_lexer": "ipython3",
   "version": "3.11.4"
  }
 },
 "nbformat": 4,
 "nbformat_minor": 2
}
