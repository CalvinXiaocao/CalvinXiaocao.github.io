{
 "cells": [
  {
   "cell_type": "markdown",
   "metadata": {},
   "source": [
    "# Lecture 5\n",
    "AI Intro, Mar 7, 2024"
   ]
  },
  {
   "cell_type": "markdown",
   "metadata": {},
   "source": [
    "## A* optimality?"
   ]
  },
  {
   "cell_type": "markdown",
   "metadata": {},
   "source": [
    "搜索问题可概括为两大类\n",
    "* Tree Search\n",
    "* Graph Search\n",
    "\n",
    "区别：Graph Search中不做重复搜索\n",
    "\n",
    "BFS or UCS ***Graph*** Search is guaranteed to be optimal.\n",
    "\n",
    "How about A*???\n",
    "\n",
    "**Example**: A* 若Heuristics仅仅是admissible的，不能保证它在图搜索中的optimality\n",
    "\n",
    "### Consistency 一致性\n",
    "Admissibility: heuristic cost ≤ actual cost to goal\n",
    "\n",
    "Consistency: heuristic “arc” cost ≤ actual cost for each arc\n",
    "\n",
    "如果Heuristic是admissible的，A* 在树搜索上最优\n",
    "\n",
    "如果Heuristic又是consistent的，A* 在图搜索上也最优"
   ]
  },
  {
   "cell_type": "markdown",
   "metadata": {},
   "source": [
    "## CSP constraint satisfaction problem"
   ]
  },
  {
   "cell_type": "markdown",
   "metadata": {},
   "source": [
    "例子：迷宫、八皇后问题\n",
    "\n",
    "***Def:*** State is defined by variables $X_i$ with values from a\n",
    "domain $D$"
   ]
  },
  {
   "cell_type": "markdown",
   "metadata": {},
   "source": [
    "### 约束的常见类别\n",
    "* 一元约束 Unary Constraints\n",
    "* 二元约束 Binary Constraints\n",
    "* 多元约束 Higher-order Constraints\n",
    "\n",
    "（还可分为 Implicit 和 Explicit）\n",
    "\n",
    "选择CSP的变量很关键！！"
   ]
  },
  {
   "cell_type": "markdown",
   "metadata": {},
   "source": [
    "### Solving Methods"
   ]
  },
  {
   "cell_type": "markdown",
   "metadata": {},
   "source": [
    "广搜？不太可行，Branching Factor太大\n",
    "\n",
    "深搜？也不太可行"
   ]
  },
  {
   "cell_type": "markdown",
   "metadata": {},
   "source": [
    "### Backtracking Search 回溯搜索\n",
    "深搜+改进\n",
    "\n",
    "### 回溯搜索的改进\n",
    "order：什么变量下一个赋值？\n",
    "\n",
    "#### * MRV minimun remaining value 最小剩余值启发\n",
    "\n",
    "#### * LCV least constraining value 给剩下的变量留下最多可能的值\n",
    "\"prunes the fewest\"\n",
    "\n",
    "### Filtering 筛选\n",
    "#### Forward Checking 提前检查\n",
    "#### Arc Consistency 一条边的一致性\n",
    "> Important: If X loses a value, neighbors of X need to be rechecked!!\n",
    "\n",
    "Arc consistency detects failure earlier than forward checking.\n",
    "\n",
    "#### Limitations\n",
    "CSP: NP-hard!\n",
    "\n",
    "过度设计arc comsistency 不能减少计算量！！"
   ]
  },
  {
   "cell_type": "markdown",
   "metadata": {},
   "source": [
    "## 拓展：CSP & SAT\n",
    "### 逻辑 logics\n",
    "直接见CS 70 Lec 1."
   ]
  }
 ],
 "metadata": {
  "language_info": {
   "name": "python"
  }
 },
 "nbformat": 4,
 "nbformat_minor": 2
}
