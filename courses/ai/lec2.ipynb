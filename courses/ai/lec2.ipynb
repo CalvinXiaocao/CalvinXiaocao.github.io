{
 "cells": [
  {
   "cell_type": "markdown",
   "metadata": {},
   "source": [
    "# Lecture 2\n",
    "AI Intro, 22.2.2024"
   ]
  },
  {
   "cell_type": "markdown",
   "metadata": {},
   "source": [
    "> ## Announcements\n",
    "> * 作业1已经上传到教学网，截止时间为2.29"
   ]
  },
  {
   "cell_type": "markdown",
   "metadata": {},
   "source": [
    "## 数学基础\n",
    "### 样本空间和样本点"
   ]
  },
  {
   "cell_type": "markdown",
   "metadata": {},
   "source": [
    "样本空间：随机试验$E$所有可能的结果组成的集合称为样本空间$\\Omega$\n",
    "\n",
    "样本点：样本空间的元素，记作$\\omega$"
   ]
  },
  {
   "cell_type": "markdown",
   "metadata": {},
   "source": [
    "### 随机事件\n",
    "\n",
    "满足某些条件的样本点组成的集合，是样本空间$\\Omega$的子集，记作$A$, $B$等\n",
    "\n",
    "#### 随机事件的关系\n",
    "* 包含关系：$A$发生，则$B$一定发生。\n",
    "* 事件的并：事件$A$与事件$B$至少有一个发生。\n",
    "* 事件的交：事件$A$与事件$B$同时发生。\n",
    "* 对立事件\n",
    "* 互斥事件"
   ]
  },
  {
   "cell_type": "markdown",
   "metadata": {},
   "source": [
    "### 古典概型\n",
    "\n",
    "设$\\Omega$为随机事件$E$的样本空间，若满足：有限性、等可能性，则称具有以上两个特征的随机试验数学模型为古典概型。"
   ]
  },
  {
   "cell_type": "markdown",
   "metadata": {},
   "source": [
    "$P(A)=\\frac{n(A)}{n(\\Omega)}$"
   ]
  },
  {
   "cell_type": "markdown",
   "metadata": {},
   "source": [
    "### 条件概率\n",
    "在事件$B$发生的条件下事件$A$发生的概率，记作$P(A|B)$\n",
    "\n",
    "定义公式：$P(A|B)=\\frac{P(AB)}{P(B)}$\n",
    "\n",
    "> 注：$P(A|B) \\neq P(A)$，它们之间无大小关系！\n",
    "> \n",
    "> 当$P(A|B) = P(A)$时，$A$与$B$相互独立。"
   ]
  },
  {
   "cell_type": "markdown",
   "metadata": {},
   "source": [
    "#### 乘法公式\n",
    "$P(AB) = P(A)P(B|A)$\n",
    "#### 链式法则（很重要！）\n",
    "$P(A_1A_2 \\dots A_n) = P(A_1)P(A_2|A_1) \\dots P(A_n|A_1 A_2 \\dots A_{n-1})$"
   ]
  },
  {
   "cell_type": "markdown",
   "metadata": {},
   "source": [
    "### 事件的独立性\n",
    "若$P(AB)=P(A)P(B)$，则称$A$和$B$相互独立。\n",
    "\n",
    "多个事件的相互独立：$P(A_1A_2 \\dots A_n) = P(A_1)P(A_2) \\dots P(A_n)$\n",
    "\n",
    "若$A$, $B$, $C$两两独立，且满足$P(ABC)=P(A)P(B)P(C)$，则称$A$, $B$, $C$为相互独立的事件。"
   ]
  },
  {
   "cell_type": "markdown",
   "metadata": {},
   "source": [
    "### 全概率公式\n",
    "\n",
    "$\\displaystyle P(A)=\\sum_{i=1}^{n}{P(B_i)(P(A|B_i))}$\n",
    "\n",
    "其中$B_1, B_2, \\dots , B_n$为完备事件组"
   ]
  },
  {
   "cell_type": "markdown",
   "metadata": {},
   "source": [
    "### 贝叶斯公式\n",
    "$P(B_i|A) = \\frac{P(B_i)P(A|B_i)}{P(A)}$"
   ]
  },
  {
   "cell_type": "markdown",
   "metadata": {},
   "source": [
    "### 随机变量与分布函数\n",
    "\n",
    "随机变量：把事件的结果变成一个值$X$\n",
    "\n",
    "分布函数：函数$F(x)=P \\{X \\leq x \\}$\n",
    "\n",
    "离散型随机变量、连续型随机变量"
   ]
  },
  {
   "cell_type": "markdown",
   "metadata": {},
   "source": [
    "### 数学期望\n",
    "$\\displaystyle E(X)=\\sum_{k=1}^{+ \\infty }{x_kp_k}$"
   ]
  },
  {
   "cell_type": "markdown",
   "metadata": {},
   "source": [
    "### 方差和标准差\n",
    "$D(X)=Var(X) = E\\{[X-E(X)]^2 \\}$"
   ]
  },
  {
   "cell_type": "markdown",
   "metadata": {},
   "source": [
    "### 协方差\n",
    "$Cov(X,Y)=E\\{[X-E(X)][Y-E(Y)]\\}$\n",
    "\n",
    "计算公式：$Cov(X,Y) = E(XY)-E(X)E(Y)$"
   ]
  },
  {
   "cell_type": "markdown",
   "metadata": {},
   "source": [
    "### 相关系数\n",
    "$-1 \\leq \\rho_{XY} = \\frac{Cov(X,Y)}{\\sqrt{D(X)}\\sqrt{D(Y)}}\\leq 1$ \n",
    "\n",
    "（高中的时候习惯称之为r）"
   ]
  }
 ],
 "metadata": {
  "language_info": {
   "name": "python"
  }
 },
 "nbformat": 4,
 "nbformat_minor": 2
}
