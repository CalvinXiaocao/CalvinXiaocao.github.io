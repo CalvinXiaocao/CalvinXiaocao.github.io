{
 "cells": [
  {
   "cell_type": "markdown",
   "metadata": {},
   "source": [
    "# Lecture 10\n",
    "AI Intro, Apr 1, 2024"
   ]
  },
  {
   "cell_type": "markdown",
   "metadata": {},
   "source": [
    "## 决策树 Decision Tree\n",
    "包含一个根节点，若干内部节点，和若干个叶节点\n",
    "\n",
    "* 根节点：样本全集\n",
    "* 叶节点：决策结果\n",
    "\n",
    "找到决策划分的方法，使得纯度最高\n",
    "\n",
    "> 如何选择最优划分？"
   ]
  },
  {
   "cell_type": "markdown",
   "metadata": {},
   "source": [
    "`basic idea: 提高纯度`"
   ]
  },
  {
   "cell_type": "markdown",
   "metadata": {},
   "source": [
    "## 熵 Entropy\n",
    "$H(X) = \\sum _x{p(x)\\log _2 {\\frac{1}{p(x)}}}$\n",
    "\n",
    "越确定，信息熵越小"
   ]
  },
  {
   "cell_type": "markdown",
   "metadata": {},
   "source": [
    "### properties\n",
    "* $H(X) \\geq 0$ 恒成立，$H(X)=0$ 当且仅当$P(x)$为确定分布"
   ]
  },
  {
   "cell_type": "markdown",
   "metadata": {},
   "source": [
    "### Joint Entropy 联合熵\n",
    "$H(X, Y) = -\\sum_x \\sum_y p(x, y) \\log _2 {p(x, y)}$\n",
    "### Conditional Entropy 条件熵\n",
    "$H(X, Y) = H(Y) + H(X|Y) = H(X) + H(Y|X) = H(Y,X)$\n",
    "\n",
    "$H(Y|X) = -\\sum_x \\sum_y p(x, y) \\log _2 {p(y | x)}$"
   ]
  },
  {
   "cell_type": "markdown",
   "metadata": {},
   "source": [
    "### Mutual information 互信息\n",
    "$I(X, Y) = H(X) + H(Y) - H(X, Y)$\n",
    "\n",
    "$I(X, Y) = H(X) - H(X|Y) = H(Y) - H(Y | X)$"
   ]
  },
  {
   "cell_type": "markdown",
   "metadata": {},
   "source": [
    "### 划分准则：\n",
    "#### Attempt 1: 信息增益\n",
    "\n",
    "用信息熵度量样本集合D的标签纯度\n",
    "\n",
    "H(D)越低，纯度越高\n",
    "\n",
    "属性A对集合D的增益"
   ]
  },
  {
   "cell_type": "markdown",
   "metadata": {},
   "source": [
    "> 问题？若将序号作为属性，划分后平均信息熵为0，增益最高！！"
   ]
  },
  {
   "cell_type": "markdown",
   "metadata": {},
   "source": [
    "#### Attempt 2: 增益率"
   ]
  },
  {
   "cell_type": "markdown",
   "metadata": {},
   "source": [
    "#### Attempt 3: Gini index 基尼指数\n",
    "基尼指数要选最小！！剩下两个选最大"
   ]
  }
 ],
 "metadata": {
  "language_info": {
   "name": "python"
  }
 },
 "nbformat": 4,
 "nbformat_minor": 2
}
