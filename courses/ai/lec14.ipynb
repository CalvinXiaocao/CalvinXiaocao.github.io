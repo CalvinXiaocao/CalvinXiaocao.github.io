{
 "cells": [
  {
   "cell_type": "markdown",
   "metadata": {},
   "source": [
    "# Lecture 14\n",
    "AI Intro, Mar 6, 2024"
   ]
  },
  {
   "cell_type": "markdown",
   "metadata": {},
   "source": [
    "## Part 1 计算机视觉——三维重建"
   ]
  },
  {
   "cell_type": "markdown",
   "metadata": {},
   "source": [
    "### inspiration：针孔模型——（小孔成像）"
   ]
  },
  {
   "cell_type": "markdown",
   "metadata": {},
   "source": [
    "根据相似，可推导空间坐标和图像坐标之间的关系\n",
    "\n",
    "坐标系统之间的转换\n",
    "1) 世界坐标系统: $𝑋𝑌𝑍$;\n",
    "2) 相机坐标系统: $𝑥𝑦𝑧$，一般取相机的光轴为𝑧轴;\n",
    "3) 成像平面坐标系统: $𝑥′𝑦′$;\n",
    "4) 图像坐标系统: $𝑢𝑣$。"
   ]
  },
  {
   "cell_type": "markdown",
   "metadata": {},
   "source": [
    "![](pic1401.png)"
   ]
  },
  {
   "cell_type": "markdown",
   "metadata": {},
   "source": [
    "#### 从世界坐标系到相机坐标系"
   ]
  },
  {
   "cell_type": "markdown",
   "metadata": {},
   "source": [
    "![](pic1402.png)"
   ]
  },
  {
   "cell_type": "markdown",
   "metadata": {},
   "source": [
    "#### 小孔成像"
   ]
  },
  {
   "cell_type": "markdown",
   "metadata": {},
   "source": [
    "![](pic1403.png)"
   ]
  },
  {
   "cell_type": "markdown",
   "metadata": {},
   "source": [
    "![](pic1404.png)"
   ]
  },
  {
   "cell_type": "markdown",
   "metadata": {},
   "source": [
    "![](pic1405.png)"
   ]
  },
  {
   "cell_type": "markdown",
   "metadata": {},
   "source": [
    "K只和相机有关"
   ]
  },
  {
   "cell_type": "markdown",
   "metadata": {},
   "source": [
    "![](pic1406.png)"
   ]
  },
  {
   "cell_type": "markdown",
   "metadata": {},
   "source": [
    "### 三维重建"
   ]
  },
  {
   "cell_type": "markdown",
   "metadata": {},
   "source": [
    "三维重建基本原理: 根据两个相机图像中的对应点关系，先求解两个相机之间\n",
    "的相对位置，再计算出图像上每个点在空间中的位置"
   ]
  },
  {
   "cell_type": "markdown",
   "metadata": {},
   "source": [
    "## NLP"
   ]
  },
  {
   "cell_type": "markdown",
   "metadata": {},
   "source": [
    "### 上下文无关的文法\n",
    "文法(grammar)是一组规则，定义了合法短语的树结构\n",
    "\n",
    "语言(language)是遵循这些规则的句子集"
   ]
  },
  {
   "cell_type": "markdown",
   "metadata": {},
   "source": [
    "### CYK算法\n",
    " (作者:Ali Cocke, Daniel Younger, Tadeo Kasami) ——自底向上的图表句法分析算法"
   ]
  },
  {
   "cell_type": "markdown",
   "metadata": {},
   "source": [
    "• 乔姆斯基范式(CNF，Chomsky Normal Form) \n",
    "\n",
    "CNF语法都是二分叉的，任何context-free grammar都可以转化成一个弱等价的CNF形式"
   ]
  }
 ],
 "metadata": {
  "language_info": {
   "name": "python"
  }
 },
 "nbformat": 4,
 "nbformat_minor": 2
}
