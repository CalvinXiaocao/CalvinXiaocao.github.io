{
 "cells": [
  {
   "cell_type": "markdown",
   "metadata": {},
   "source": [
    "# Lecture 6\n",
    "AI Intro, Mar 11, 2024"
   ]
  },
  {
   "cell_type": "markdown",
   "metadata": {},
   "source": [
    "## 博弈 Game\n",
    "分类：\n",
    "* Deterministic 确定性的 or stochastic 随机性的?\n",
    "* One, two, or more players?\n",
    "* Zero sum 零和?\n",
    "* Perfect information (can you see the state)?"
   ]
  },
  {
   "cell_type": "markdown",
   "metadata": {},
   "source": [
    "### zero sum games 零和博弈\n",
    "* utilities 效用 (values on outcomes)\n",
    "* one maximizes and the other minimizes\n",
    "* Adversarial 对抗的, pure competition 完全竞争"
   ]
  },
  {
   "cell_type": "markdown",
   "metadata": {},
   "source": [
    "### formulation 建模\n",
    "§ States: S (start at s0)\n",
    "\n",
    "§ Players: P={1...N} (usually take turns)\n",
    "\n",
    "§ Actions: A (may depend on player / state)\n",
    "\n",
    "§ Transition Function: SxA -> S\n",
    "\n",
    "§ Terminal Test: S -> $\\{ t, f \\}$\n",
    "\n",
    "§ Terminal Utilities: SxP -> R\n",
    "\n",
    "##### Solution for a player is a policy 策略."
   ]
  },
  {
   "cell_type": "markdown",
   "metadata": {},
   "source": [
    "### Minimax 极小极大搜索\n",
    "States Under Agent’s Control: Max\n",
    "\n",
    "States Under Opponent’s Control: Min"
   ]
  },
  {
   "cell_type": "markdown",
   "metadata": {},
   "source": [
    "> 并不是把对面建模成min就是最好的选择！！"
   ]
  },
  {
   "cell_type": "markdown",
   "metadata": {},
   "source": [
    "### Alpha-Beta 剪枝\n",
    "\n",
    "标准minimax伪代码\n",
    "\n",
    "```Python\n",
    "def max-value(state, α, β):\n",
    "    initialize v = -∞\n",
    "    for each successor of state:\n",
    "    v = max(v, value(successor, α, β))\n",
    "    if v ≥ β return v\n",
    "    α = max(α, v)\n",
    "    return v\n",
    "```"
   ]
  },
  {
   "cell_type": "markdown",
   "metadata": {},
   "source": [
    "```Python\n",
    "def min-value(state , α, β):\n",
    "    initialize v = +∞\n",
    "    for each successor of state:\n",
    "    v = min(v, value(successor, α, β))\n",
    "    if v ≤ α return v\n",
    "    β = min(β, v)\n",
    "    return v\n",
    "```"
   ]
  },
  {
   "cell_type": "markdown",
   "metadata": {},
   "source": [
    "### 搜索深度的影响\n",
    "§ Evaluation functions are always imperfect\n",
    "\n",
    "§ The deeper in the tree the evaluation function is buried, the less the quality of the evaluation function matters\n",
    "\n",
    "§ An important example of the tradeoff between complexity of features and complexity of computation"
   ]
  },
  {
   "cell_type": "markdown",
   "metadata": {},
   "source": [
    "### 估值函数的构建"
   ]
  },
  {
   "cell_type": "markdown",
   "metadata": {},
   "source": [
    "### multiagent 多智能体效用\n",
    "取每一方的最佳\n",
    "### Expectimax 期望最大化搜索\n",
    "对子节点加权平均\n",
    "\n",
    "Expectimax无法剪枝！！"
   ]
  }
 ],
 "metadata": {
  "language_info": {
   "name": "python"
  }
 },
 "nbformat": 4,
 "nbformat_minor": 2
}
