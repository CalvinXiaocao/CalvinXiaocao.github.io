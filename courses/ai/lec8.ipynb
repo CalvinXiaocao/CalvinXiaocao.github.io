{
 "cells": [
  {
   "cell_type": "markdown",
   "metadata": {},
   "source": [
    "# Lecture 8\n",
    "AI Intro, Mar 21, 2024"
   ]
  },
  {
   "cell_type": "markdown",
   "metadata": {},
   "source": [
    "## Machine Learning\n",
    "\n",
    "Traditional Method: data + programming = output\n",
    "\n",
    "ML: data + output program"
   ]
  },
  {
   "cell_type": "markdown",
   "metadata": {},
   "source": [
    "### Types of models\n",
    "Two settings:\n",
    "* supervised learning (need labels y)\n",
    "* unsupervised learning (do not need labels y)\n",
    "* Reinforcement learning (interact with the environment to gather data)\n",
    "\n",
    "Three types:\n",
    "* Discriminative Models 判别式模型\n",
    "* Descriptive Models 描述式模型\n",
    "* Generative Nodels 生成式模型"
   ]
  },
  {
   "cell_type": "markdown",
   "metadata": {},
   "source": [
    "`Example`\n",
    "\n",
    "Spam or ham?\n",
    "\n",
    "Model: a function with parameters\n",
    "\n",
    "Label: spam/ham"
   ]
  },
  {
   "cell_type": "markdown",
   "metadata": {},
   "source": [
    "### Regression 回归 & classification 分类\n",
    "regression: dealing with continuous\n",
    "\n",
    "classification: dealing with discrete\n",
    "\n",
    "区分特性：是不是所有错都是“等价”的？"
   ]
  },
  {
   "cell_type": "markdown",
   "metadata": {},
   "source": [
    "### Training Steps\n",
    "* feature extraction -> xi: feature vector   yi: label"
   ]
  },
  {
   "cell_type": "markdown",
   "metadata": {},
   "source": [
    "### testing/evaluation\n",
    "training error: 训练集上的平均误差\n",
    "\n",
    "testing error: 测试集上的平均误差\n",
    "\n",
    "> overfitting\n",
    "\n",
    "过拟合：测试误差远远大于训练误差（死记硬背）\n",
    "\n",
    "> underfitting\n",
    "\n",
    "欠拟合：训练完成后误差仍然很大"
   ]
  },
  {
   "cell_type": "markdown",
   "metadata": {},
   "source": [
    "### k-Nearest Neighbor, KNN\n",
    "* 优点：\n",
    "  + 不需要训练\n",
    "  + 只需要一个距离函数\n",
    "* 缺点：\n",
    "  + 需要存储所有训练样本\n",
    "  + 很难找到一个好的距离函数\n",
    "  + 维度灾难"
   ]
  },
  {
   "cell_type": "markdown",
   "metadata": {},
   "source": [
    "### 非参数化模型——参数化模型\n",
    "* 非参数化模型：模型不能被有限参数定义或不包含参数，需要保留训练样本\n",
    "* 参数化模型：模型包含可训练的参数"
   ]
  },
  {
   "cell_type": "markdown",
   "metadata": {},
   "source": [
    "## Linear Regression 线性模型"
   ]
  },
  {
   "cell_type": "markdown",
   "metadata": {},
   "source": [
    "$f(x) = \\omega^T x + b$\n",
    "\n",
    "$\\omega$: 权重\n",
    "\n",
    "$b$: 偏置"
   ]
  },
  {
   "cell_type": "markdown",
   "metadata": {},
   "source": [
    "`如何训练？`\n",
    "\n",
    "通过最小化损失函数\n",
    "\n",
    "* 平方损失函数 squared loss (也称为最小二乘法)\n",
    "#### 理解梯度的意义\n"
   ]
  }
 ],
 "metadata": {
  "language_info": {
   "name": "python"
  }
 },
 "nbformat": 4,
 "nbformat_minor": 2
}
