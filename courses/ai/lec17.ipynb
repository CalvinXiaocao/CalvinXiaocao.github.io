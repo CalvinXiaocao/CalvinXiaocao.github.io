{
 "cells": [
  {
   "cell_type": "markdown",
   "metadata": {},
   "source": [
    "# Lecture 17\n",
    "AI Intro, May 20, 2024"
   ]
  },
  {
   "cell_type": "markdown",
   "metadata": {},
   "source": [
    "## 知识表示和知识图谱\n",
    "### 一阶逻辑表示法\n",
    "* ($\\forall$ Month)(May(Month)) -> Hold(PKU, Anniversary)\n",
    "* BeautifulCity(Beijing)\n",
    "* IsLocatedBetween(Beijing, Shanghai, Harbin)\n",
    "* ($\\exist$ Tourists)($\\neg$ Like(Tourists, show))\n",
    "* $(\\forall x)(D(x, 4)\\implies D(x, 2))$"
   ]
  },
  {
   "cell_type": "markdown",
   "metadata": {},
   "source": [
    "### 自然演绎推理\n"
   ]
  },
  {
   "cell_type": "markdown",
   "metadata": {},
   "source": [
    "### 归结演绎推理（✨）\n",
    "1. 先把自然语言翻译成逻辑\n",
    "2. 将结论的否定也放入，写成$A \\vee B \\vee C \\dots$\n",
    "3. 推出矛盾\n"
   ]
  },
  {
   "cell_type": "markdown",
   "metadata": {},
   "source": [
    "### 产生式表示法、框架网络、向量表示法等（intro）"
   ]
  },
  {
   "cell_type": "markdown",
   "metadata": {},
   "source": [
    "## 机器人"
   ]
  },
  {
   "cell_type": "markdown",
   "metadata": {},
   "source": [
    "### 定位与地图创建\n",
    "Monte Carlo Location\n",
    "\n",
    "Particle Filtering"
   ]
  },
  {
   "cell_type": "markdown",
   "metadata": {},
   "source": [
    "### 运动规划\n",
    "（最重要：考点🌟）快速探索随机树 RRT"
   ]
  }
 ],
 "metadata": {
  "language_info": {
   "name": "python"
  }
 },
 "nbformat": 4,
 "nbformat_minor": 2
}
