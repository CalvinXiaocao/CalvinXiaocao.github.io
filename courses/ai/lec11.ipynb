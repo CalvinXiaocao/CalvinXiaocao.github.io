{
 "cells": [
  {
   "cell_type": "markdown",
   "metadata": {},
   "source": [
    "# Lecture 11\n",
    "AI Intro, Apr 8, 2024"
   ]
  },
  {
   "cell_type": "markdown",
   "metadata": {},
   "source": [
    "## 神经网络\n",
    "### the limitation of linear models\n",
    "linearly non-seperable!!\n",
    "\n",
    "> solution 1: decision tree\n",
    "\n",
    "> solution 2: Neural network"
   ]
  },
  {
   "cell_type": "markdown",
   "metadata": {},
   "source": [
    "### neuron & perceptron\n",
    "Multi Layer Perceptron 多层感知器（全连接神经网络）\n",
    "\n",
    "### 正向传播\n",
    "单独看：中间类似于logistic regression\n",
    "\n",
    "最后一个节点根据任务选择，如果是二分类/regression：一个节点\n",
    "\n",
    "如果是多分类：多个节点\n",
    "\n",
    "### 参数的训练：反向传播\n"
   ]
  }
 ],
 "metadata": {
  "language_info": {
   "name": "python"
  }
 },
 "nbformat": 4,
 "nbformat_minor": 2
}
