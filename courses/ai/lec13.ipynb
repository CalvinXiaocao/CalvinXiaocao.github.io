{
 "cells": [
  {
   "cell_type": "markdown",
   "metadata": {},
   "source": [
    "# Lecture 13\n",
    "AI Intro, Apr 18, 2024"
   ]
  },
  {
   "cell_type": "markdown",
   "metadata": {},
   "source": [
    "## 计算机视觉\n",
    "### 特征\n",
    "对象特定信息的归纳总结\n",
    "\n",
    "特征空间指特征向量所在的空间，每一个特征对应特征空间中的一个点。\n",
    "\n",
    "分类器指对数据/特征进行分类的模型，最终输出分类结果。"
   ]
  },
  {
   "cell_type": "markdown",
   "metadata": {},
   "source": [
    "### 特征提取算子 Haar\n",
    "Haar可以分为边缘特征、线性特征和中心特征三类\n",
    "\n",
    "### 梯度直方图\n",
    "Histograms of oriented gradients HOG算子\n",
    "\n",
    "* RGB彩色图像\n",
    "* 灰度校正-》校正图像\n",
    "* 梯度计算\n",
    "* 每个点的梯度方向和大小计算\n",
    "* 将图像分为多个16×16的cell，每个cell内统计各个方向上的梯度数量(即投票)\n",
    "* 相邻的cell组成Block\n",
    "* Block内各个cell的梯度直方图组合成特征序列\n",
    "* Block归一化的特征序列\n",
    "* 各个Block的归一化特征组合成图像特征\n",
    "* 梯度直方图可视化"
   ]
  },
  {
   "cell_type": "markdown",
   "metadata": {},
   "source": [
    "### 特征提取算子——SIFT"
   ]
  },
  {
   "cell_type": "markdown",
   "metadata": {},
   "source": [
    "### 分类器\n",
    "* 最近邻法\n",
    "* 线性分类法、多分类\n",
    "* Fisher线性判别，先找到垂直于分界面的平面，使计算图像在该平面 的投影，使类内差距最小化，类间差距最大化\n",
    "* 支撑向量机(SVM):找到一个分界面，在正确分类的基础上，令样本到分界面的最小距离最大化。"
   ]
  },
  {
   "cell_type": "markdown",
   "metadata": {},
   "source": [
    "### 图像数据增强"
   ]
  }
 ],
 "metadata": {
  "language_info": {
   "name": "python"
  }
 },
 "nbformat": 4,
 "nbformat_minor": 2
}
