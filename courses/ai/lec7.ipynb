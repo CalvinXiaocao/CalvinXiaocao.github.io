{
 "cells": [
  {
   "cell_type": "markdown",
   "metadata": {},
   "source": [
    "# Lecture 7\n",
    "AI Intro, Mar 18, 2024"
   ]
  },
  {
   "cell_type": "markdown",
   "metadata": {},
   "source": [
    "## Monte Carlo Search"
   ]
  },
  {
   "cell_type": "markdown",
   "metadata": {},
   "source": [
    "Monte Carlo - random sampling"
   ]
  },
  {
   "cell_type": "markdown",
   "metadata": {},
   "source": [
    "### The balance between exploration & exploitation\n",
    "\n",
    "exploitation: choose the current optimal one\n",
    "\n",
    "exploration: choose non-optimal one / choose randomly\n",
    "\n",
    "`conflict!`\n",
    "\n",
    "### $\\epsilon$-greedy\n",
    "x: random variable\n",
    "\n",
    "for x in $1 - \\epsilon$, choose the optimal one.\n",
    "\n",
    "for x in $\\epsilon$, choose randomly."
   ]
  },
  {
   "cell_type": "markdown",
   "metadata": {},
   "source": [
    "### UCB Upper Confidence Bound\n",
    "\n",
    "$A_{t+1} = argmax_a[Q_t(a) + c\\sqrt{\\frac{\\ln t}{N_t(a)}}]$\n",
    "\n",
    "win-rate + exploration bonus"
   ]
  },
  {
   "cell_type": "markdown",
   "metadata": {},
   "source": [
    "## From UCB to Games\n",
    "* selection // run UCB \"in a certain tree\"\n",
    "* expansion // expand a leaf in the tree\n",
    "* play-out  // use Monte Carlo method\n",
    "* backpropagation\n",
    "\n",
    "### Selection\n",
    "for every step, run UCB\n",
    "\n",
    "t: the parent's node\n",
    "\n",
    "Q: win rate"
   ]
  }
 ],
 "metadata": {
  "language_info": {
   "name": "python"
  }
 },
 "nbformat": 4,
 "nbformat_minor": 2
}
